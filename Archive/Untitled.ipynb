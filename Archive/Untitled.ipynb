{
 "cells": [
  {
   "cell_type": "code",
   "execution_count": 6,
   "id": "86f554b9-ba47-4d0e-ac26-ca53c8108146",
   "metadata": {},
   "outputs": [],
   "source": [
    "import requests\n",
    "import pandas as pd\n",
    "import time\n",
    "import datetime as dt\n",
    "from pmaw import PushshiftAPI\n",
    "api = PushshiftAPI()"
   ]
  },
  {
   "cell_type": "code",
   "execution_count": 8,
   "id": "55dafbb3-8a91-42fb-a163-5c11d6b3bbd4",
   "metadata": {},
   "outputs": [
    {
     "data": {
      "text/plain": [
       "1598850000"
      ]
     },
     "execution_count": 8,
     "metadata": {},
     "output_type": "execute_result"
    }
   ],
   "source": [
    "end = int(dt.datetime(2021,9,2,0,0).timestamp())\n",
    "beg = int(dt.datetime(2020,8,31,0,0).timestamp())\n",
    "\n",
    "beg"
   ]
  },
  {
   "cell_type": "code",
   "execution_count": 34,
   "id": "aabaea82-9f42-4c30-9002-0f2f2b714b18",
   "metadata": {},
   "outputs": [],
   "source": [
    "url = 'https://api.pushshift.io/reddit/search/submission'"
   ]
  },
  {
   "cell_type": "code",
   "execution_count": 35,
   "id": "b1b9e253-180b-41d8-9747-5a83d4d44cb7",
   "metadata": {},
   "outputs": [],
   "source": [
    "#subrett, size always 100, before is time in seconds\n",
    "\n",
    "params = {\n",
    "    'subreddit': 'LearnUselessTalents',\n",
    "    'size' : 100,\n",
    "    'before': beg\n",
    "    'after': end\n",
    "}"
   ]
  },
  {
   "cell_type": "code",
   "execution_count": 36,
   "id": "e313fa93-270d-4753-844e-ba0b0740742f",
   "metadata": {},
   "outputs": [],
   "source": [
    "res = requests.get(url, params)"
   ]
  },
  {
   "cell_type": "code",
   "execution_count": 37,
   "id": "b10e5704-58b2-4a02-8d41-9530b901fd08",
   "metadata": {},
   "outputs": [
    {
     "data": {
      "text/plain": [
       "200"
      ]
     },
     "execution_count": 37,
     "metadata": {},
     "output_type": "execute_result"
    }
   ],
   "source": [
    "res.status_code"
   ]
  },
  {
   "cell_type": "code",
   "execution_count": 38,
   "id": "a69ef577-cc91-41a1-90dc-98bc031eebd1",
   "metadata": {},
   "outputs": [],
   "source": [
    "posts = res.json()['data']\n",
    " #Selftext is body\n"
   ]
  },
  {
   "cell_type": "code",
   "execution_count": 39,
   "id": "aaa09fde-637c-4678-a713-4a533837d895",
   "metadata": {},
   "outputs": [
    {
     "data": {
      "text/plain": [
       "100"
      ]
     },
     "execution_count": 39,
     "metadata": {},
     "output_type": "execute_result"
    }
   ],
   "source": [
    "len(posts)"
   ]
  },
  {
   "cell_type": "code",
   "execution_count": 52,
   "id": "362e321c-86bd-48f9-8a3e-ed7ed6a2aea9",
   "metadata": {},
   "outputs": [
    {
     "data": {
      "text/html": [
       "<div>\n",
       "<style scoped>\n",
       "    .dataframe tbody tr th:only-of-type {\n",
       "        vertical-align: middle;\n",
       "    }\n",
       "\n",
       "    .dataframe tbody tr th {\n",
       "        vertical-align: top;\n",
       "    }\n",
       "\n",
       "    .dataframe thead th {\n",
       "        text-align: right;\n",
       "    }\n",
       "</style>\n",
       "<table border=\"1\" class=\"dataframe\">\n",
       "  <thead>\n",
       "    <tr style=\"text-align: right;\">\n",
       "      <th></th>\n",
       "      <th>subreddit</th>\n",
       "      <th>title</th>\n",
       "      <th>selftext</th>\n",
       "      <th>created_utc</th>\n",
       "    </tr>\n",
       "  </thead>\n",
       "  <tbody>\n",
       "    <tr>\n",
       "      <th>0</th>\n",
       "      <td>LearnUselessTalents</td>\n",
       "      <td>How to make a Bollywood sample into a drill beat</td>\n",
       "      <td></td>\n",
       "      <td>1627763946</td>\n",
       "    </tr>\n",
       "    <tr>\n",
       "      <th>1</th>\n",
       "      <td>LearnUselessTalents</td>\n",
       "      <td>Began learning how to produce beats</td>\n",
       "      <td></td>\n",
       "      <td>1627751583</td>\n",
       "    </tr>\n",
       "    <tr>\n",
       "      <th>2</th>\n",
       "      <td>LearnUselessTalents</td>\n",
       "      <td>NBA honors late Kentucky guard Terrence Clarke...</td>\n",
       "      <td>[removed]</td>\n",
       "      <td>1627637223</td>\n",
       "    </tr>\n",
       "    <tr>\n",
       "      <th>3</th>\n",
       "      <td>LearnUselessTalents</td>\n",
       "      <td>افضل ايتين لعلاج و ابطال السحر كيف ما كان نوعه...</td>\n",
       "      <td></td>\n",
       "      <td>1627591405</td>\n",
       "    </tr>\n",
       "    <tr>\n",
       "      <th>4</th>\n",
       "      <td>LearnUselessTalents</td>\n",
       "      <td>How to Polishing a coin</td>\n",
       "      <td></td>\n",
       "      <td>1627580459</td>\n",
       "    </tr>\n",
       "    <tr>\n",
       "      <th>...</th>\n",
       "      <td>...</td>\n",
       "      <td>...</td>\n",
       "      <td>...</td>\n",
       "      <td>...</td>\n",
       "    </tr>\n",
       "    <tr>\n",
       "      <th>95</th>\n",
       "      <td>LearnUselessTalents</td>\n",
       "      <td>Make a can of soda pop pen loudly</td>\n",
       "      <td></td>\n",
       "      <td>1625246191</td>\n",
       "    </tr>\n",
       "    <tr>\n",
       "      <th>96</th>\n",
       "      <td>LearnUselessTalents</td>\n",
       "      <td>HOW DO I LEARN TO DO WHAT HE IS DOING?</td>\n",
       "      <td></td>\n",
       "      <td>1625229374</td>\n",
       "    </tr>\n",
       "    <tr>\n",
       "      <th>97</th>\n",
       "      <td>LearnUselessTalents</td>\n",
       "      <td>If you lie on the ground and move your arms an...</td>\n",
       "      <td></td>\n",
       "      <td>1625181547</td>\n",
       "    </tr>\n",
       "    <tr>\n",
       "      <th>98</th>\n",
       "      <td>LearnUselessTalents</td>\n",
       "      <td>Is juggling useless/ but fun to watch</td>\n",
       "      <td></td>\n",
       "      <td>1625169181</td>\n",
       "    </tr>\n",
       "    <tr>\n",
       "      <th>99</th>\n",
       "      <td>LearnUselessTalents</td>\n",
       "      <td>Easy &amp;amp; Fastest Paper AirPlanes That fly Far</td>\n",
       "      <td></td>\n",
       "      <td>1625110844</td>\n",
       "    </tr>\n",
       "  </tbody>\n",
       "</table>\n",
       "<p>100 rows × 4 columns</p>\n",
       "</div>"
      ],
      "text/plain": [
       "              subreddit                                              title  \\\n",
       "0   LearnUselessTalents   How to make a Bollywood sample into a drill beat   \n",
       "1   LearnUselessTalents                Began learning how to produce beats   \n",
       "2   LearnUselessTalents  NBA honors late Kentucky guard Terrence Clarke...   \n",
       "3   LearnUselessTalents  افضل ايتين لعلاج و ابطال السحر كيف ما كان نوعه...   \n",
       "4   LearnUselessTalents                            How to Polishing a coin   \n",
       "..                  ...                                                ...   \n",
       "95  LearnUselessTalents                  Make a can of soda pop pen loudly   \n",
       "96  LearnUselessTalents             HOW DO I LEARN TO DO WHAT HE IS DOING?   \n",
       "97  LearnUselessTalents  If you lie on the ground and move your arms an...   \n",
       "98  LearnUselessTalents              Is juggling useless/ but fun to watch   \n",
       "99  LearnUselessTalents    Easy &amp; Fastest Paper AirPlanes That fly Far   \n",
       "\n",
       "     selftext  created_utc  \n",
       "0               1627763946  \n",
       "1               1627751583  \n",
       "2   [removed]   1627637223  \n",
       "3               1627591405  \n",
       "4               1627580459  \n",
       "..        ...          ...  \n",
       "95              1625246191  \n",
       "96              1625229374  \n",
       "97              1625181547  \n",
       "98              1625169181  \n",
       "99              1625110844  \n",
       "\n",
       "[100 rows x 4 columns]"
      ]
     },
     "execution_count": 52,
     "metadata": {},
     "output_type": "execute_result"
    }
   ],
   "source": [
    "df = pd.DataFrame(posts)[['subreddit', 'title', 'selftext', 'created_utc']]\n",
    "\n",
    "df"
   ]
  },
  {
   "cell_type": "code",
   "execution_count": 55,
   "id": "c6e25f83-e988-4b96-aaec-0163ad60a3b0",
   "metadata": {},
   "outputs": [],
   "source": [
    "#Sleep for apis to not block you\n",
    "time.sleep(10)"
   ]
  },
  {
   "cell_type": "code",
   "execution_count": 48,
   "id": "ce8fb535-79b9-400d-8522-38e13a725413",
   "metadata": {},
   "outputs": [],
   "source": [
    "params = {\n",
    "    'subreddit': 'halo',\n",
    "    'size': 0, \n",
    "    'metadata': 'true'}"
   ]
  },
  {
   "cell_type": "code",
   "execution_count": 49,
   "id": "61eaf9ea-4453-41fb-a08f-6c4b6aa4356b",
   "metadata": {},
   "outputs": [],
   "source": [
    "res = requests.get(url, params)"
   ]
  },
  {
   "cell_type": "code",
   "execution_count": 50,
   "id": "a74497eb-7704-4b38-b9e3-3fe0d80b0d85",
   "metadata": {},
   "outputs": [
    {
     "data": {
      "text/plain": [
       "200"
      ]
     },
     "execution_count": 50,
     "metadata": {},
     "output_type": "execute_result"
    }
   ],
   "source": [
    "res.status_code"
   ]
  },
  {
   "cell_type": "code",
   "execution_count": 56,
   "id": "39467a71-f19f-4351-88dd-92b67bc00c1b",
   "metadata": {},
   "outputs": [
    {
     "data": {
      "text/plain": [
       "394444"
      ]
     },
     "execution_count": 56,
     "metadata": {},
     "output_type": "execute_result"
    }
   ],
   "source": [
    "res.json()['metadata']['total_results']"
   ]
  },
  {
   "cell_type": "code",
   "execution_count": 1,
   "id": "e35201fe-7d16-4b59-9072-3fbf39c92e9f",
   "metadata": {},
   "outputs": [
    {
     "ename": "NameError",
     "evalue": "name 'posts' is not defined",
     "output_type": "error",
     "traceback": [
      "\u001b[0;31m---------------------------------------------------------------------------\u001b[0m",
      "\u001b[0;31mNameError\u001b[0m                                 Traceback (most recent call last)",
      "\u001b[0;32m<ipython-input-1-45127264592a>\u001b[0m in \u001b[0;36m<module>\u001b[0;34m\u001b[0m\n\u001b[0;32m----> 1\u001b[0;31m \u001b[0mposts\u001b[0m\u001b[0;34m[\u001b[0m\u001b[0;36m0\u001b[0m\u001b[0;34m]\u001b[0m\u001b[0;34m.\u001b[0m\u001b[0mkeys\u001b[0m\u001b[0;34m(\u001b[0m\u001b[0;34m)\u001b[0m\u001b[0;34m\u001b[0m\u001b[0;34m\u001b[0m\u001b[0m\n\u001b[0m",
      "\u001b[0;31mNameError\u001b[0m: name 'posts' is not defined"
     ]
    }
   ],
   "source": [
    "posts[0].keys()"
   ]
  },
  {
   "cell_type": "code",
   "execution_count": 2,
   "id": "1e870044-654b-439d-8d78-b22eab1c5cb4",
   "metadata": {},
   "outputs": [
    {
     "ename": "NameError",
     "evalue": "name 'df_fin' is not defined",
     "output_type": "error",
     "traceback": [
      "\u001b[0;31m---------------------------------------------------------------------------\u001b[0m",
      "\u001b[0;31mNameError\u001b[0m                                 Traceback (most recent call last)",
      "\u001b[0;32m<ipython-input-2-77a02a048205>\u001b[0m in \u001b[0;36m<module>\u001b[0;34m\u001b[0m\n\u001b[1;32m      1\u001b[0m \u001b[0;31m#Standardize text by removing links, symbols, and punctuation\u001b[0m\u001b[0;34m\u001b[0m\u001b[0;34m\u001b[0m\u001b[0;34m\u001b[0m\u001b[0m\n\u001b[1;32m      2\u001b[0m \u001b[0;34m\u001b[0m\u001b[0m\n\u001b[0;32m----> 3\u001b[0;31m \u001b[0mdf_fin\u001b[0m\u001b[0;34m[\u001b[0m\u001b[0;34m'title'\u001b[0m\u001b[0;34m]\u001b[0m \u001b[0;34m=\u001b[0m \u001b[0mdf_fin\u001b[0m\u001b[0;34m[\u001b[0m\u001b[0;34m'title'\u001b[0m\u001b[0;34m]\u001b[0m\u001b[0;34m.\u001b[0m\u001b[0mstr\u001b[0m\u001b[0;34m.\u001b[0m\u001b[0mreplace\u001b[0m\u001b[0;34m(\u001b[0m\u001b[0;34mr\"http\\S+\"\u001b[0m\u001b[0;34m,\u001b[0m \u001b[0;34m\"\"\u001b[0m\u001b[0;34m)\u001b[0m\u001b[0;34m\u001b[0m\u001b[0;34m\u001b[0m\u001b[0m\n\u001b[0m\u001b[1;32m      4\u001b[0m \u001b[0mdf_fin\u001b[0m\u001b[0;34m[\u001b[0m\u001b[0;34m'title'\u001b[0m\u001b[0;34m]\u001b[0m \u001b[0;34m=\u001b[0m \u001b[0mdf_fin\u001b[0m\u001b[0;34m[\u001b[0m\u001b[0;34m'title'\u001b[0m\u001b[0;34m]\u001b[0m\u001b[0;34m.\u001b[0m\u001b[0mstr\u001b[0m\u001b[0;34m.\u001b[0m\u001b[0mreplace\u001b[0m\u001b[0;34m(\u001b[0m\u001b[0;34mr\"http\"\u001b[0m\u001b[0;34m,\u001b[0m \u001b[0;34m\"\"\u001b[0m\u001b[0;34m)\u001b[0m\u001b[0;34m\u001b[0m\u001b[0;34m\u001b[0m\u001b[0m\n\u001b[1;32m      5\u001b[0m \u001b[0mdf_fin\u001b[0m\u001b[0;34m[\u001b[0m\u001b[0;34m'title'\u001b[0m\u001b[0;34m]\u001b[0m \u001b[0;34m=\u001b[0m \u001b[0mdf_fin\u001b[0m\u001b[0;34m[\u001b[0m\u001b[0;34m'title'\u001b[0m\u001b[0;34m]\u001b[0m\u001b[0;34m.\u001b[0m\u001b[0mstr\u001b[0m\u001b[0;34m.\u001b[0m\u001b[0mreplace\u001b[0m\u001b[0;34m(\u001b[0m\u001b[0;34mr\"@\\S+\"\u001b[0m\u001b[0;34m,\u001b[0m \u001b[0;34m\"\"\u001b[0m\u001b[0;34m)\u001b[0m\u001b[0;34m\u001b[0m\u001b[0;34m\u001b[0m\u001b[0m\n",
      "\u001b[0;31mNameError\u001b[0m: name 'df_fin' is not defined"
     ]
    }
   ],
   "source": [
    "   #Standardize text by removing links, symbols, and punctuation\n",
    "    \n",
    "df_fin['title'] = df_fin['title'].str.replace(r\"http\\S+\", \"\")\n",
    "df_fin['title'] = df_fin['title'].str.replace(r\"http\", \"\")\n",
    "df_fin['title'] = df_fin['title'].str.replace(r\"@\\S+\", \"\")\n",
    "df_fin['title'] = df_fin['title'].str.replace(r\"[^A-Za-z0-9(),!?@\\'\\`\\\"\\_\\n]\", \" \")\n",
    "df_fin['title'] = df_fin['title'].str.replace(r\"@\", \"at\")\n",
    "df_fin['title'] = df_fin['title'].str.replace(r\"@\", \"at\")\n",
    "df_fin['title'] = df_fin['title'].str.replace(r\"www\", \"\")\n",
    "df_fin['title'] = df_fin['title'].str.replace(r\".com\", \"\")\n",
    "df_fin['title'] = df_fin['title'].str.lower()\n",
    "    \n",
    "df_econ['title'] = df_econ['title'].str.replace(r\"http\\S+\", \"\")\n",
    "df_econ['title'] = df_econ['title'].str.replace(r\"http\", \"\")\n",
    "df_econ['title'] = df_econ['title'].str.replace(r\"@\\S+\", \"\")\n",
    "df_econ['title'] = df_econ['title'].str.replace(r\"[^A-Za-z0-9(),!?@\\'\\`\\\"\\_\\n]\", \" \")\n",
    "df_econ['title'] = df_econ['title'].str.replace(r\"@\", \"at\")\n",
    "df_econ['title'] = df_econ['title'].str.replace(r\"@\", \"at\")\n",
    "df_econ['title'] = df_econ['title'].str.replace(r\"www\", \"\")\n",
    "df_econ['title'] = df_econ['title'].str.replace(r\".com\", \"\")\n",
    "df_econ['title'] = df_econ['title'].str.lower()"
   ]
  },
  {
   "cell_type": "code",
   "execution_count": null,
   "id": "ea670143-136d-4586-ab5c-1a4410fda275",
   "metadata": {},
   "outputs": [],
   "source": []
  },
  {
   "cell_type": "code",
   "execution_count": null,
   "id": "8b44289c-eb27-4ff6-b16e-2544cfce8ca0",
   "metadata": {},
   "outputs": [],
   "source": []
  },
  {
   "cell_type": "code",
   "execution_count": null,
   "id": "9ee35f0f-2de6-4931-8721-c830e28da365",
   "metadata": {},
   "outputs": [],
   "source": []
  },
  {
   "cell_type": "code",
   "execution_count": null,
   "id": "65ba9ab2-310d-4f4b-8aa4-fb0d9804d113",
   "metadata": {},
   "outputs": [],
   "source": []
  },
  {
   "cell_type": "code",
   "execution_count": null,
   "id": "862980ed-e9e7-4f78-afef-8a515210bb80",
   "metadata": {},
   "outputs": [],
   "source": [
    ",'The word-count of the title', 'Words tokenized to remove whitespace'\n",
    "                           , 'Words lemmatized to root of word (Based on analysis)', 'Stemmatized Words (Rudimentary chopping of words to root)', \n",
    "                        'One-Hot encoded variable showing whether a post is from Reddit Finance; used as our target variable'"
   ]
  },
  {
   "cell_type": "code",
   "execution_count": 3,
   "id": "588973cb-d4d6-4eb1-b86e-0115fa485b8d",
   "metadata": {},
   "outputs": [
    {
     "ename": "NameError",
     "evalue": "name 'np' is not defined",
     "output_type": "error",
     "traceback": [
      "\u001b[0;31m---------------------------------------------------------------------------\u001b[0m",
      "\u001b[0;31mNameError\u001b[0m                                 Traceback (most recent call last)",
      "\u001b[0;32m<ipython-input-3-7b9311713290>\u001b[0m in \u001b[0;36m<module>\u001b[0;34m\u001b[0m\n\u001b[1;32m      1\u001b[0m \u001b[0;31m# Grid search cross validation\u001b[0m\u001b[0;34m\u001b[0m\u001b[0;34m\u001b[0m\u001b[0;34m\u001b[0m\u001b[0m\n\u001b[1;32m      2\u001b[0m \u001b[0;34m\u001b[0m\u001b[0m\n\u001b[0;32m----> 3\u001b[0;31m \u001b[0mgrid\u001b[0m\u001b[0;34m=\u001b[0m\u001b[0;34m{\u001b[0m\u001b[0;34m\"C\"\u001b[0m\u001b[0;34m:\u001b[0m\u001b[0mnp\u001b[0m\u001b[0;34m.\u001b[0m\u001b[0mlogspace\u001b[0m\u001b[0;34m(\u001b[0m\u001b[0;34m-\u001b[0m\u001b[0;36m3\u001b[0m\u001b[0;34m,\u001b[0m\u001b[0;36m3\u001b[0m\u001b[0;34m,\u001b[0m\u001b[0;36m7\u001b[0m\u001b[0;34m)\u001b[0m\u001b[0;34m,\u001b[0m \u001b[0;34m\"penalty\"\u001b[0m\u001b[0;34m:\u001b[0m\u001b[0;34m[\u001b[0m\u001b[0;34m\"l1\"\u001b[0m\u001b[0;34m,\u001b[0m\u001b[0;34m\"l2\"\u001b[0m\u001b[0;34m]\u001b[0m\u001b[0;34m}\u001b[0m\u001b[0;31m# l1 lasso l2 ridge\u001b[0m\u001b[0;34m\u001b[0m\u001b[0;34m\u001b[0m\u001b[0m\n\u001b[0m\u001b[1;32m      4\u001b[0m \u001b[0;34m\u001b[0m\u001b[0m\n\u001b[1;32m      5\u001b[0m \u001b[0mlr_model\u001b[0m \u001b[0;34m=\u001b[0m \u001b[0mLogisticRegression\u001b[0m\u001b[0;34m(\u001b[0m\u001b[0;34m)\u001b[0m\u001b[0;34m\u001b[0m\u001b[0;34m\u001b[0m\u001b[0m\n",
      "\u001b[0;31mNameError\u001b[0m: name 'np' is not defined"
     ]
    }
   ],
   "source": [
    "# Grid search cross validation\n",
    "\n",
    "grid={\"C\":np.logspace(-3,3,7), \"penalty\":[\"l1\",\"l2\"]}# l1 lasso l2 ridge\n",
    "\n",
    "lr_model = LogisticRegression()\n",
    "gs = GridSearchCV(lr_model,grid,cv=5)\n",
    "\n",
    "gs.fit(X_train_cv,y_train)\n",
    "\n",
    "print(\"best parameters :\",logreg_cv.best_params_)\n",
    "print(\"accuracy :\",logreg_cv.best_score_)"
   ]
  },
  {
   "cell_type": "code",
   "execution_count": null,
   "id": "69941f89-8ee7-4c8a-b6ef-01b01e4b4981",
   "metadata": {},
   "outputs": [],
   "source": []
  },
  {
   "cell_type": "code",
   "execution_count": null,
   "id": "ffb29d2f-7fe1-4b31-91e0-721f7a9c0c69",
   "metadata": {},
   "outputs": [],
   "source": []
  },
  {
   "cell_type": "code",
   "execution_count": 4,
   "id": "3c16cdbb-d2b0-456d-b175-431eb9ca1ba4",
   "metadata": {},
   "outputs": [
    {
     "data": {
      "text/plain": [
       "\"pipeline_seq = Pipeline([\\n('cvectorize', CountVectorizer(stop_words = stopwords_1,\\n                               max_df=0.1,\\n                               max_features=1000,\\n                               min_df = 1,\\n                               ngram_range=(1,2))),\\n('TFID', TfidfTransformer()),\\n('rf', RandomForestClassifier(max_depth= [None, 1, 2, 3, 4, 5],  \\n                              n_estimators= [100, 150, 200],\\n                              max_features= ['sqrt', .5]))])\\n\\n\\npipe = Pipeline(pipeline_seq)\""
      ]
     },
     "execution_count": 4,
     "metadata": {},
     "output_type": "execute_result"
    }
   ],
   "source": [
    "'''pipeline_seq = Pipeline([\n",
    "('cvectorize', CountVectorizer(stop_words = stopwords_1,\n",
    "                               max_df=0.1,\n",
    "                               max_features=1000,\n",
    "                               min_df = 1,\n",
    "                               ngram_range=(1,2))),\n",
    "('TFID', TfidfTransformer()),\n",
    "('rf', RandomForestClassifier(max_depth= [None, 1, 2, 3, 4, 5],  \n",
    "                              n_estimators= [100, 150, 200],\n",
    "                              max_features= ['sqrt', .5]))])\n",
    "\n",
    "\n",
    "pipe = Pipeline(pipeline_seq)'''"
   ]
  },
  {
   "cell_type": "code",
   "execution_count": null,
   "id": "381c6914-4f0e-436e-8ff9-fe967889ec67",
   "metadata": {},
   "outputs": [],
   "source": [
    "'''#Create dictionary to store results\n",
    "model_results= {}\n",
    "\n",
    "'''"
   ]
  },
  {
   "cell_type": "code",
   "execution_count": null,
   "id": "7ec4c54d-319c-4f63-bc37-e0d5fc5e7c94",
   "metadata": {},
   "outputs": [],
   "source": [
    "'''params = {                      \n",
    "    'vect__ngram_range':[(1,2)],\n",
    "    'vect__stop_words':['english'],\n",
    "    #'model__penalty':['l2', 'l1'],  \n",
    "    #'model__C':[0.1 ,1, 10]   \n",
    "}\n",
    "\n",
    "gs = GridSearchCV(pipe, params, cv=5, verbose=2, n_jobs=-1)\n",
    "\n",
    "\n",
    "gs.fit(X_train_cv, y_train)\n",
    "\n",
    "print('Best Params: ',gs.best_params_)\n",
    "print('Best Estimator Score Train: ', gs.best_estimator_.score(X_train_cv, y_train))\n",
    "print('Best Estimator Score Test: ', gs.best_estimator_.score(X_test_cv, y_test))\n",
    "\n",
    "\n",
    "\n",
    "#Store in dictionary\n",
    "model_results['train_estimator_score'] = gs.score(X_train_cv, y_train)\n",
    "model_results['test_estimator_score'] = gs.score(X_test_cv, y_test)\n",
    "model_results['best_params'] = gs.best_params_\n",
    "\n",
    "\n",
    "'''"
   ]
  },
  {
   "cell_type": "code",
   "execution_count": null,
   "id": "38afdf78-1197-4968-84c7-460de42329d0",
   "metadata": {},
   "outputs": [],
   "source": []
  },
  {
   "cell_type": "code",
   "execution_count": null,
   "id": "c8e82ec9-76a2-4b96-97e2-e21bbb772d19",
   "metadata": {},
   "outputs": [],
   "source": []
  },
  {
   "cell_type": "code",
   "execution_count": null,
   "id": "94923f6e-f89b-4841-a743-00c1c4406275",
   "metadata": {},
   "outputs": [],
   "source": []
  }
 ],
 "metadata": {
  "kernelspec": {
   "display_name": "Python [conda env:dsi]",
   "language": "python",
   "name": "conda-env-dsi-py"
  },
  "language_info": {
   "codemirror_mode": {
    "name": "ipython",
    "version": 3
   },
   "file_extension": ".py",
   "mimetype": "text/x-python",
   "name": "python",
   "nbconvert_exporter": "python",
   "pygments_lexer": "ipython3",
   "version": "3.8.8"
  }
 },
 "nbformat": 4,
 "nbformat_minor": 5
}
