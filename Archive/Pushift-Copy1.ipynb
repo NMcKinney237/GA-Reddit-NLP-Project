{
 "cells": [
  {
   "cell_type": "code",
   "execution_count": 54,
   "id": "86f554b9-ba47-4d0e-ac26-ca53c8108146",
   "metadata": {},
   "outputs": [],
   "source": [
    "import requests\n",
    "import pandas as pd\n",
    "import time"
   ]
  },
  {
   "cell_type": "code",
   "execution_count": 34,
   "id": "aabaea82-9f42-4c30-9002-0f2f2b714b18",
   "metadata": {},
   "outputs": [],
   "source": [
    "url = 'https://api.pushshift.io/reddit/search/submission'"
   ]
  },
  {
   "cell_type": "code",
   "execution_count": 35,
   "id": "b1b9e253-180b-41d8-9747-5a83d4d44cb7",
   "metadata": {},
   "outputs": [],
   "source": [
    "#subrett, size always 100, before is time in seconds\n",
    "\n",
    "params = {\n",
    "    'subreddit': 'LearnUselessTalents',\n",
    "    'size' : 100,\n",
    "    'before': 1627783653\n",
    "}"
   ]
  },
  {
   "cell_type": "code",
   "execution_count": 36,
   "id": "e313fa93-270d-4753-844e-ba0b0740742f",
   "metadata": {},
   "outputs": [],
   "source": [
    "res = requests.get(url, params)"
   ]
  },
  {
   "cell_type": "code",
   "execution_count": 37,
   "id": "b10e5704-58b2-4a02-8d41-9530b901fd08",
   "metadata": {},
   "outputs": [
    {
     "data": {
      "text/plain": [
       "200"
      ]
     },
     "execution_count": 37,
     "metadata": {},
     "output_type": "execute_result"
    }
   ],
   "source": [
    "res.status_code"
   ]
  },
  {
   "cell_type": "code",
   "execution_count": 38,
   "id": "a69ef577-cc91-41a1-90dc-98bc031eebd1",
   "metadata": {},
   "outputs": [],
   "source": [
    "posts = res.json()['data']\n",
    " #Selftext is body\n"
   ]
  },
  {
   "cell_type": "code",
   "execution_count": 39,
   "id": "aaa09fde-637c-4678-a713-4a533837d895",
   "metadata": {},
   "outputs": [
    {
     "data": {
      "text/plain": [
       "100"
      ]
     },
     "execution_count": 39,
     "metadata": {},
     "output_type": "execute_result"
    }
   ],
   "source": [
    "len(posts)"
   ]
  },
  {
   "cell_type": "code",
   "execution_count": 52,
   "id": "362e321c-86bd-48f9-8a3e-ed7ed6a2aea9",
   "metadata": {},
   "outputs": [
    {
     "data": {
      "text/html": [
       "<div>\n",
       "<style scoped>\n",
       "    .dataframe tbody tr th:only-of-type {\n",
       "        vertical-align: middle;\n",
       "    }\n",
       "\n",
       "    .dataframe tbody tr th {\n",
       "        vertical-align: top;\n",
       "    }\n",
       "\n",
       "    .dataframe thead th {\n",
       "        text-align: right;\n",
       "    }\n",
       "</style>\n",
       "<table border=\"1\" class=\"dataframe\">\n",
       "  <thead>\n",
       "    <tr style=\"text-align: right;\">\n",
       "      <th></th>\n",
       "      <th>subreddit</th>\n",
       "      <th>title</th>\n",
       "      <th>selftext</th>\n",
       "      <th>created_utc</th>\n",
       "    </tr>\n",
       "  </thead>\n",
       "  <tbody>\n",
       "    <tr>\n",
       "      <th>0</th>\n",
       "      <td>LearnUselessTalents</td>\n",
       "      <td>How to make a Bollywood sample into a drill beat</td>\n",
       "      <td></td>\n",
       "      <td>1627763946</td>\n",
       "    </tr>\n",
       "    <tr>\n",
       "      <th>1</th>\n",
       "      <td>LearnUselessTalents</td>\n",
       "      <td>Began learning how to produce beats</td>\n",
       "      <td></td>\n",
       "      <td>1627751583</td>\n",
       "    </tr>\n",
       "    <tr>\n",
       "      <th>2</th>\n",
       "      <td>LearnUselessTalents</td>\n",
       "      <td>NBA honors late Kentucky guard Terrence Clarke...</td>\n",
       "      <td>[removed]</td>\n",
       "      <td>1627637223</td>\n",
       "    </tr>\n",
       "    <tr>\n",
       "      <th>3</th>\n",
       "      <td>LearnUselessTalents</td>\n",
       "      <td>افضل ايتين لعلاج و ابطال السحر كيف ما كان نوعه...</td>\n",
       "      <td></td>\n",
       "      <td>1627591405</td>\n",
       "    </tr>\n",
       "    <tr>\n",
       "      <th>4</th>\n",
       "      <td>LearnUselessTalents</td>\n",
       "      <td>How to Polishing a coin</td>\n",
       "      <td></td>\n",
       "      <td>1627580459</td>\n",
       "    </tr>\n",
       "    <tr>\n",
       "      <th>...</th>\n",
       "      <td>...</td>\n",
       "      <td>...</td>\n",
       "      <td>...</td>\n",
       "      <td>...</td>\n",
       "    </tr>\n",
       "    <tr>\n",
       "      <th>95</th>\n",
       "      <td>LearnUselessTalents</td>\n",
       "      <td>Make a can of soda pop pen loudly</td>\n",
       "      <td></td>\n",
       "      <td>1625246191</td>\n",
       "    </tr>\n",
       "    <tr>\n",
       "      <th>96</th>\n",
       "      <td>LearnUselessTalents</td>\n",
       "      <td>HOW DO I LEARN TO DO WHAT HE IS DOING?</td>\n",
       "      <td></td>\n",
       "      <td>1625229374</td>\n",
       "    </tr>\n",
       "    <tr>\n",
       "      <th>97</th>\n",
       "      <td>LearnUselessTalents</td>\n",
       "      <td>If you lie on the ground and move your arms an...</td>\n",
       "      <td></td>\n",
       "      <td>1625181547</td>\n",
       "    </tr>\n",
       "    <tr>\n",
       "      <th>98</th>\n",
       "      <td>LearnUselessTalents</td>\n",
       "      <td>Is juggling useless/ but fun to watch</td>\n",
       "      <td></td>\n",
       "      <td>1625169181</td>\n",
       "    </tr>\n",
       "    <tr>\n",
       "      <th>99</th>\n",
       "      <td>LearnUselessTalents</td>\n",
       "      <td>Easy &amp;amp; Fastest Paper AirPlanes That fly Far</td>\n",
       "      <td></td>\n",
       "      <td>1625110844</td>\n",
       "    </tr>\n",
       "  </tbody>\n",
       "</table>\n",
       "<p>100 rows × 4 columns</p>\n",
       "</div>"
      ],
      "text/plain": [
       "              subreddit                                              title  \\\n",
       "0   LearnUselessTalents   How to make a Bollywood sample into a drill beat   \n",
       "1   LearnUselessTalents                Began learning how to produce beats   \n",
       "2   LearnUselessTalents  NBA honors late Kentucky guard Terrence Clarke...   \n",
       "3   LearnUselessTalents  افضل ايتين لعلاج و ابطال السحر كيف ما كان نوعه...   \n",
       "4   LearnUselessTalents                            How to Polishing a coin   \n",
       "..                  ...                                                ...   \n",
       "95  LearnUselessTalents                  Make a can of soda pop pen loudly   \n",
       "96  LearnUselessTalents             HOW DO I LEARN TO DO WHAT HE IS DOING?   \n",
       "97  LearnUselessTalents  If you lie on the ground and move your arms an...   \n",
       "98  LearnUselessTalents              Is juggling useless/ but fun to watch   \n",
       "99  LearnUselessTalents    Easy &amp; Fastest Paper AirPlanes That fly Far   \n",
       "\n",
       "     selftext  created_utc  \n",
       "0               1627763946  \n",
       "1               1627751583  \n",
       "2   [removed]   1627637223  \n",
       "3               1627591405  \n",
       "4               1627580459  \n",
       "..        ...          ...  \n",
       "95              1625246191  \n",
       "96              1625229374  \n",
       "97              1625181547  \n",
       "98              1625169181  \n",
       "99              1625110844  \n",
       "\n",
       "[100 rows x 4 columns]"
      ]
     },
     "execution_count": 52,
     "metadata": {},
     "output_type": "execute_result"
    }
   ],
   "source": [
    "df = pd.DataFrame(posts)[['subreddit', 'title', 'selftext', 'created_utc']]\n",
    "\n",
    "df"
   ]
  },
  {
   "cell_type": "code",
   "execution_count": 55,
   "id": "c6e25f83-e988-4b96-aaec-0163ad60a3b0",
   "metadata": {},
   "outputs": [],
   "source": [
    "#Sleep for apis to not block you\n",
    "time.sleep(10)"
   ]
  },
  {
   "cell_type": "code",
   "execution_count": 48,
   "id": "ce8fb535-79b9-400d-8522-38e13a725413",
   "metadata": {},
   "outputs": [],
   "source": [
    "params = {\n",
    "    'subreddit': 'halo',\n",
    "    'size': 0, \n",
    "    'metadata': 'true'}"
   ]
  },
  {
   "cell_type": "code",
   "execution_count": 49,
   "id": "61eaf9ea-4453-41fb-a08f-6c4b6aa4356b",
   "metadata": {},
   "outputs": [],
   "source": [
    "res = requests.get(url, params)"
   ]
  },
  {
   "cell_type": "code",
   "execution_count": 50,
   "id": "a74497eb-7704-4b38-b9e3-3fe0d80b0d85",
   "metadata": {},
   "outputs": [
    {
     "data": {
      "text/plain": [
       "200"
      ]
     },
     "execution_count": 50,
     "metadata": {},
     "output_type": "execute_result"
    }
   ],
   "source": [
    "res.status_code"
   ]
  },
  {
   "cell_type": "code",
   "execution_count": 56,
   "id": "39467a71-f19f-4351-88dd-92b67bc00c1b",
   "metadata": {},
   "outputs": [
    {
     "data": {
      "text/plain": [
       "394444"
      ]
     },
     "execution_count": 56,
     "metadata": {},
     "output_type": "execute_result"
    }
   ],
   "source": [
    "res.json()['metadata']['total_results']"
   ]
  },
  {
   "cell_type": "code",
   "execution_count": 58,
   "id": "e35201fe-7d16-4b59-9072-3fbf39c92e9f",
   "metadata": {},
   "outputs": [
    {
     "data": {
      "text/plain": [
       "dict_keys(['all_awardings', 'allow_live_comments', 'author', 'author_flair_css_class', 'author_flair_richtext', 'author_flair_text', 'author_flair_type', 'author_fullname', 'author_is_blocked', 'author_patreon_flair', 'author_premium', 'awarders', 'can_mod_post', 'contest_mode', 'created_utc', 'domain', 'full_link', 'gildings', 'id', 'is_created_from_ads_ui', 'is_crosspostable', 'is_meta', 'is_original_content', 'is_reddit_media_domain', 'is_robot_indexable', 'is_self', 'is_video', 'link_flair_background_color', 'link_flair_richtext', 'link_flair_text_color', 'link_flair_type', 'locked', 'media_only', 'no_follow', 'num_comments', 'num_crossposts', 'over_18', 'parent_whitelist_status', 'permalink', 'pinned', 'pwls', 'retrieved_on', 'score', 'selftext', 'send_replies', 'spoiler', 'stickied', 'subreddit', 'subreddit_id', 'subreddit_subscribers', 'subreddit_type', 'thumbnail', 'title', 'total_awards_received', 'treatment_tags', 'upvote_ratio', 'url', 'url_overridden_by_dest', 'whitelist_status', 'wls'])"
      ]
     },
     "execution_count": 58,
     "metadata": {},
     "output_type": "execute_result"
    }
   ],
   "source": [
    "posts[0].keys()"
   ]
  }
 ],
 "metadata": {
  "kernelspec": {
   "display_name": "Python [conda env:dsi]",
   "language": "python",
   "name": "conda-env-dsi-py"
  },
  "language_info": {
   "codemirror_mode": {
    "name": "ipython",
    "version": 3
   },
   "file_extension": ".py",
   "mimetype": "text/x-python",
   "name": "python",
   "nbconvert_exporter": "python",
   "pygments_lexer": "ipython3",
   "version": "3.8.8"
  }
 },
 "nbformat": 4,
 "nbformat_minor": 5
}
