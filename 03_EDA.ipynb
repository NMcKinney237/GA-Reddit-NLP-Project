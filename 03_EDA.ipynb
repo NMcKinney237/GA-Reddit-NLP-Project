{
 "cells": [
  {
   "cell_type": "markdown",
   "id": "214137c2-3ad1-4c31-b46e-6e6ca223769d",
   "metadata": {},
   "source": [
    "# Project 3 - EDA"
   ]
  },
  {
   "cell_type": "markdown",
   "id": "257fbe37-f590-4a15-92fc-6a73a62514ba",
   "metadata": {},
   "source": [
    "## Table of Contents\n",
    "\n",
    "- [Functions](#Functions)\n",
    "\n",
    "- [Imports](#Imports)\n",
    "\n",
    "- [Exploratory Data Analysis](#Exploratory-Data-Analysis) \n",
    "\n",
    "- [Model Pre-processing](#Model-Pre_Processing)\n",
    "\n",
    "\n"
   ]
  },
  {
   "cell_type": "markdown",
   "id": "1b3ca7c2-d46d-4f0d-96fe-539fbd994888",
   "metadata": {},
   "source": [
    "## Functions "
   ]
  },
  {
   "cell_type": "code",
   "execution_count": 1,
   "id": "76c71280-c21d-4e60-a0f4-046db7f3e879",
   "metadata": {
    "tags": []
   },
   "outputs": [],
   "source": [
    "\n",
    "def data_dictionary(dframe):\n",
    "    '''Creates a data dictionary of finished dataset'''\n",
    "#Fill dictionary\n",
    "    list_ = []\n",
    "    for col in dframe.columns:\n",
    "        Dict = {}\n",
    "        Dict['Feature'] = col\n",
    "        Dict['Data Type'] = dframe[col].dtype\n",
    "        Dict['Dataset'] = 'df_fin.csv, df_econ.csv'\n",
    "        list_.append(Dict)\n",
    "#To dataframe format        \n",
    "    d_dictionary = pd.DataFrame(list_)\n",
    "    \n",
    "#Add Description List to established dataframe\n",
    "    description_list = ['The original poster of the reddit post', 'The date of the original post'\n",
    "                            ,'The unique Id of the post','The initial title of the post','The amount of upvotes by other users; The relevance of the post',\n",
    "                            'The number of comments in a post','The subreddit the post belongs to',\n",
    "                            'The length of the characters in the title of the post','The word-count of the title', 'Words tokenized to remove whitespace'\n",
    "                           , 'Words lemmatized to root of word (Based on analysis)', 'Stemmatized Words (Rudimentary chopping of words to root)', \n",
    "                        'One-Hot encoded variable showing whether a post is from Reddit Finance; used as our target variable']    \n",
    "    column_values = pd.Series(description_list)\n",
    "    d_dictionary.insert(loc=3, column='Description', value=column_values)\n",
    "    d_dictionary.to_csv('./Data/Data_Dictionary.csv', index = False)\n",
    "\n",
    "    return d_dictionary\n"
   ]
  },
  {
   "cell_type": "markdown",
   "id": "65b48882-0824-4b01-a8d1-05cc0ecaf361",
   "metadata": {},
   "source": [
    "## Imports"
   ]
  },
  {
   "cell_type": "code",
   "execution_count": 2,
   "id": "8b670c11-935e-483d-ba11-d91f7cbc5841",
   "metadata": {},
   "outputs": [],
   "source": [
    "#Import Cleaning and Viz packages\n",
    "import pandas as pd\n",
    "import numpy as np\n",
    "import matplotlib.pyplot as plt\n",
    "import seaborn as sns\n",
    "%matplotlib inline\n",
    "\n",
    "\n",
    "#Import Modeling Libraries\n",
    "from nltk.corpus import stopwords\n",
    "from sklearn.model_selection import train_test_split, cross_val_score, GridSearchCV\n",
    "from sklearn.feature_extraction.text import CountVectorizer, TfidfVectorizer\n",
    "from sklearn.linear_model import LogisticRegression\n"
   ]
  },
  {
   "cell_type": "markdown",
   "id": "4333df71-ed0f-4d85-9632-4c4fea8878c3",
   "metadata": {},
   "source": [
    "## Exploratory Data Analysis"
   ]
  },
  {
   "cell_type": "code",
   "execution_count": 3,
   "id": "5ecfdb40-a237-4940-9fd6-e530b339fcc7",
   "metadata": {},
   "outputs": [
    {
     "data": {
      "text/html": [
       "<div>\n",
       "<style scoped>\n",
       "    .dataframe tbody tr th:only-of-type {\n",
       "        vertical-align: middle;\n",
       "    }\n",
       "\n",
       "    .dataframe tbody tr th {\n",
       "        vertical-align: top;\n",
       "    }\n",
       "\n",
       "    .dataframe thead th {\n",
       "        text-align: right;\n",
       "    }\n",
       "</style>\n",
       "<table border=\"1\" class=\"dataframe\">\n",
       "  <thead>\n",
       "    <tr style=\"text-align: right;\">\n",
       "      <th></th>\n",
       "      <th>author</th>\n",
       "      <th>date created (epoch time)</th>\n",
       "      <th>post_id</th>\n",
       "      <th>body</th>\n",
       "      <th>upvote score</th>\n",
       "      <th>number of comments</th>\n",
       "      <th>subreddit</th>\n",
       "      <th>length</th>\n",
       "      <th>word_count</th>\n",
       "      <th>tokenized_words</th>\n",
       "      <th>lemmatized_tokenized_words</th>\n",
       "      <th>stemmatized_tokenized_words</th>\n",
       "      <th>post_reddit_finance</th>\n",
       "    </tr>\n",
       "  </thead>\n",
       "  <tbody>\n",
       "    <tr>\n",
       "      <th>0</th>\n",
       "      <td>kmuinnovation</td>\n",
       "      <td>1631255155</td>\n",
       "      <td>plfj7f</td>\n",
       "      <td>Schweizer Kredit Rangliste des Monats Septembe...</td>\n",
       "      <td>1</td>\n",
       "      <td>0</td>\n",
       "      <td>Finance</td>\n",
       "      <td>52</td>\n",
       "      <td>7</td>\n",
       "      <td>['schweizer', 'kredit', 'rangliste', 'des', 'm...</td>\n",
       "      <td>['schweizer', 'kredit', 'rangliste', 'de', 'mo...</td>\n",
       "      <td>['schweizer', 'kredit', 'ranglist', 'de', 'mon...</td>\n",
       "      <td>1</td>\n",
       "    </tr>\n",
       "    <tr>\n",
       "      <th>1</th>\n",
       "      <td>sillychillly</td>\n",
       "      <td>1631255546</td>\n",
       "      <td>plfm8v</td>\n",
       "      <td>Mastercard acquires CipherTrace to enhance cry...</td>\n",
       "      <td>1</td>\n",
       "      <td>0</td>\n",
       "      <td>Finance</td>\n",
       "      <td>62</td>\n",
       "      <td>7</td>\n",
       "      <td>['mastercard', 'acquires', 'ciphertrace', 'to'...</td>\n",
       "      <td>['mastercard', 'acquires', 'ciphertrace', 'to'...</td>\n",
       "      <td>['mastercard', 'acquir', 'ciphertrac', 'to', '...</td>\n",
       "      <td>1</td>\n",
       "    </tr>\n",
       "  </tbody>\n",
       "</table>\n",
       "</div>"
      ],
      "text/plain": [
       "          author  date created (epoch time) post_id  \\\n",
       "0  kmuinnovation                 1631255155  plfj7f   \n",
       "1   sillychillly                 1631255546  plfm8v   \n",
       "\n",
       "                                                body  upvote score  \\\n",
       "0  Schweizer Kredit Rangliste des Monats Septembe...             1   \n",
       "1  Mastercard acquires CipherTrace to enhance cry...             1   \n",
       "\n",
       "   number of comments subreddit  length  word_count  \\\n",
       "0                   0   Finance      52           7   \n",
       "1                   0   Finance      62           7   \n",
       "\n",
       "                                     tokenized_words  \\\n",
       "0  ['schweizer', 'kredit', 'rangliste', 'des', 'm...   \n",
       "1  ['mastercard', 'acquires', 'ciphertrace', 'to'...   \n",
       "\n",
       "                          lemmatized_tokenized_words  \\\n",
       "0  ['schweizer', 'kredit', 'rangliste', 'de', 'mo...   \n",
       "1  ['mastercard', 'acquires', 'ciphertrace', 'to'...   \n",
       "\n",
       "                         stemmatized_tokenized_words  post_reddit_finance  \n",
       "0  ['schweizer', 'kredit', 'ranglist', 'de', 'mon...                    1  \n",
       "1  ['mastercard', 'acquir', 'ciphertrac', 'to', '...                    1  "
      ]
     },
     "execution_count": 3,
     "metadata": {},
     "output_type": "execute_result"
    }
   ],
   "source": [
    "df1 = pd.read_csv('./Data/reddit_posts.csv')\n",
    "df_fin = pd.read_csv('./Data/fin_cleaned.csv')\n",
    "df_econ= pd.read_csv('./Data/econ_cleaned.csv')\n",
    "\n",
    "\n",
    "\n",
    "df1.head(2)"
   ]
  },
  {
   "cell_type": "markdown",
   "id": "e48f48cb-11c8-4a8f-ad56-cfabaf23da1b",
   "metadata": {},
   "source": [
    "**Our dataframes are near parity with one another in terms of posts which means our null will likely be .5**"
   ]
  },
  {
   "cell_type": "code",
   "execution_count": 4,
   "id": "e750b188-da28-4e85-aba6-2c8bc44813df",
   "metadata": {},
   "outputs": [
    {
     "data": {
      "text/html": [
       "<div>\n",
       "<style scoped>\n",
       "    .dataframe tbody tr th:only-of-type {\n",
       "        vertical-align: middle;\n",
       "    }\n",
       "\n",
       "    .dataframe tbody tr th {\n",
       "        vertical-align: top;\n",
       "    }\n",
       "\n",
       "    .dataframe thead th {\n",
       "        text-align: right;\n",
       "    }\n",
       "</style>\n",
       "<table border=\"1\" class=\"dataframe\">\n",
       "  <thead>\n",
       "    <tr style=\"text-align: right;\">\n",
       "      <th></th>\n",
       "      <th>date created (epoch time)</th>\n",
       "      <th>upvote score</th>\n",
       "      <th>number of comments</th>\n",
       "      <th>length</th>\n",
       "      <th>word_count</th>\n",
       "      <th>post_reddit_finance</th>\n",
       "    </tr>\n",
       "  </thead>\n",
       "  <tbody>\n",
       "    <tr>\n",
       "      <th>count</th>\n",
       "      <td>2.000100e+04</td>\n",
       "      <td>20001.000000</td>\n",
       "      <td>20001.000000</td>\n",
       "      <td>20001.000000</td>\n",
       "      <td>20001.000000</td>\n",
       "      <td>20001.000000</td>\n",
       "    </tr>\n",
       "    <tr>\n",
       "      <th>mean</th>\n",
       "      <td>1.616534e+09</td>\n",
       "      <td>7.383231</td>\n",
       "      <td>21.016199</td>\n",
       "      <td>91.520574</td>\n",
       "      <td>13.212389</td>\n",
       "      <td>0.499975</td>\n",
       "    </tr>\n",
       "    <tr>\n",
       "      <th>std</th>\n",
       "      <td>8.752459e+06</td>\n",
       "      <td>156.396655</td>\n",
       "      <td>117.463195</td>\n",
       "      <td>68.779179</td>\n",
       "      <td>8.919074</td>\n",
       "      <td>0.500012</td>\n",
       "    </tr>\n",
       "    <tr>\n",
       "      <th>min</th>\n",
       "      <td>1.596237e+09</td>\n",
       "      <td>0.000000</td>\n",
       "      <td>0.000000</td>\n",
       "      <td>1.000000</td>\n",
       "      <td>1.000000</td>\n",
       "      <td>0.000000</td>\n",
       "    </tr>\n",
       "    <tr>\n",
       "      <th>25%</th>\n",
       "      <td>1.609778e+09</td>\n",
       "      <td>1.000000</td>\n",
       "      <td>0.000000</td>\n",
       "      <td>50.000000</td>\n",
       "      <td>8.000000</td>\n",
       "      <td>0.000000</td>\n",
       "    </tr>\n",
       "    <tr>\n",
       "      <th>50%</th>\n",
       "      <td>1.617132e+09</td>\n",
       "      <td>1.000000</td>\n",
       "      <td>0.000000</td>\n",
       "      <td>68.000000</td>\n",
       "      <td>11.000000</td>\n",
       "      <td>0.000000</td>\n",
       "    </tr>\n",
       "    <tr>\n",
       "      <th>75%</th>\n",
       "      <td>1.623881e+09</td>\n",
       "      <td>1.000000</td>\n",
       "      <td>2.000000</td>\n",
       "      <td>100.000000</td>\n",
       "      <td>16.000000</td>\n",
       "      <td>1.000000</td>\n",
       "    </tr>\n",
       "    <tr>\n",
       "      <th>max</th>\n",
       "      <td>1.631312e+09</td>\n",
       "      <td>12617.000000</td>\n",
       "      <td>4812.000000</td>\n",
       "      <td>307.000000</td>\n",
       "      <td>65.000000</td>\n",
       "      <td>1.000000</td>\n",
       "    </tr>\n",
       "  </tbody>\n",
       "</table>\n",
       "</div>"
      ],
      "text/plain": [
       "       date created (epoch time)  upvote score  number of comments  \\\n",
       "count               2.000100e+04  20001.000000        20001.000000   \n",
       "mean                1.616534e+09      7.383231           21.016199   \n",
       "std                 8.752459e+06    156.396655          117.463195   \n",
       "min                 1.596237e+09      0.000000            0.000000   \n",
       "25%                 1.609778e+09      1.000000            0.000000   \n",
       "50%                 1.617132e+09      1.000000            0.000000   \n",
       "75%                 1.623881e+09      1.000000            2.000000   \n",
       "max                 1.631312e+09  12617.000000         4812.000000   \n",
       "\n",
       "             length    word_count  post_reddit_finance  \n",
       "count  20001.000000  20001.000000         20001.000000  \n",
       "mean      91.520574     13.212389             0.499975  \n",
       "std       68.779179      8.919074             0.500012  \n",
       "min        1.000000      1.000000             0.000000  \n",
       "25%       50.000000      8.000000             0.000000  \n",
       "50%       68.000000     11.000000             0.000000  \n",
       "75%      100.000000     16.000000             1.000000  \n",
       "max      307.000000     65.000000             1.000000  "
      ]
     },
     "execution_count": 4,
     "metadata": {},
     "output_type": "execute_result"
    }
   ],
   "source": [
    "df1.describe()"
   ]
  },
  {
   "cell_type": "markdown",
   "id": "c8d4090f-77c4-46ff-84c9-6df92d0d223f",
   "metadata": {},
   "source": [
    "**Here we use one-hot encoding to get our target variable we are looking to predict later on.**"
   ]
  },
  {
   "cell_type": "code",
   "execution_count": 5,
   "id": "b33f4b7a-4830-4ac4-bae8-137ee5af83ec",
   "metadata": {},
   "outputs": [],
   "source": [
    "#Convert subreddit to dummies 1, if finance, 0 if econ\n",
    "\n",
    "x = pd.get_dummies(df1, columns = ['subreddit'], drop_first = True)\n",
    "df_fin= pd.get_dummies(df_fin, columns = ['subreddit'], drop_first = False)\n",
    "df_econ = pd.get_dummies(df_econ, columns = ['subreddit'], drop_first = False)\n",
    "\n",
    "\n",
    "df1['post_reddit_finance']= x['subreddit_Finance']\n",
    "\n"
   ]
  },
  {
   "cell_type": "code",
   "execution_count": 6,
   "id": "bbb02a24-19ff-4d29-a247-231efe295e17",
   "metadata": {},
   "outputs": [],
   "source": [
    "df1['post_reddit_finance'] = df1['post_reddit_finance'].astype(int)"
   ]
  },
  {
   "cell_type": "code",
   "execution_count": 7,
   "id": "2964fc53-2620-48b0-a0df-15563eabc04e",
   "metadata": {},
   "outputs": [
    {
     "data": {
      "text/plain": [
       "author                         0\n",
       "date created (epoch time)      0\n",
       "post_id                        0\n",
       "body                           0\n",
       "upvote score                   0\n",
       "number of comments             0\n",
       "subreddit                      0\n",
       "length                         0\n",
       "word_count                     0\n",
       "tokenized_words                0\n",
       "lemmatized_tokenized_words     0\n",
       "stemmatized_tokenized_words    0\n",
       "post_reddit_finance            0\n",
       "dtype: int64"
      ]
     },
     "execution_count": 7,
     "metadata": {},
     "output_type": "execute_result"
    }
   ],
   "source": [
    "df1.isna().sum()"
   ]
  },
  {
   "cell_type": "code",
   "execution_count": 8,
   "id": "947f15c8-c8ca-4591-956e-65b3f4cc8748",
   "metadata": {},
   "outputs": [
    {
     "data": {
      "image/png": "[encoded data removed]",
      "text/plain": [
       "<Figure size 576x576 with 1 Axes>"
      ]
     },
     "metadata": {
      "needs_background": "light"
     },
     "output_type": "display_data"
    }
   ],
   "source": [
    "plt.figure(figsize=(8,8))\n",
    "df1.subreddit.value_counts().plot(kind = 'barh')\n",
    "plt.xlabel('Count Of Posts', fontsize=16)\n",
    "plt.ylabel('Subreddit', fontsize=16)\n",
    "plt.title('Posts By Subreddit', fontsize =25)\n",
    "\n",
    "plt.show()"
   ]
  },
  {
   "cell_type": "markdown",
   "id": "0704e32c-b1d9-46a0-ba9c-370c8d1a7ab4",
   "metadata": {},
   "source": [
    "**Our subreddit contains the same number of posts, while our post dates range from 7/20/2020 (Finance) to 12/02/2020 (Economics)**"
   ]
  },
  {
   "cell_type": "code",
   "execution_count": 9,
   "id": "574376bc-6a4c-43e5-bcca-e586ecba71f8",
   "metadata": {},
   "outputs": [
    {
     "data": {
      "text/html": [
       "<div>\n",
       "<style scoped>\n",
       "    .dataframe tbody tr th:only-of-type {\n",
       "        vertical-align: middle;\n",
       "    }\n",
       "\n",
       "    .dataframe tbody tr th {\n",
       "        vertical-align: top;\n",
       "    }\n",
       "\n",
       "    .dataframe thead th {\n",
       "        text-align: right;\n",
       "    }\n",
       "</style>\n",
       "<table border=\"1\" class=\"dataframe\">\n",
       "  <thead>\n",
       "    <tr style=\"text-align: right;\">\n",
       "      <th></th>\n",
       "      <th>body</th>\n",
       "      <th>upvote score</th>\n",
       "      <th>subreddit</th>\n",
       "    </tr>\n",
       "  </thead>\n",
       "  <tbody>\n",
       "    <tr>\n",
       "      <th>0</th>\n",
       "      <td>The $7.25 minimum wage can’t pay the bills in ...</td>\n",
       "      <td>12617</td>\n",
       "      <td>Economics</td>\n",
       "    </tr>\n",
       "    <tr>\n",
       "      <th>1</th>\n",
       "      <td>Bipartisan bill would ban lawmakers from buyin...</td>\n",
       "      <td>11255</td>\n",
       "      <td>Finance</td>\n",
       "    </tr>\n",
       "    <tr>\n",
       "      <th>2</th>\n",
       "      <td>12 Japanese firms will end business deals invo...</td>\n",
       "      <td>5259</td>\n",
       "      <td>Economics</td>\n",
       "    </tr>\n",
       "    <tr>\n",
       "      <th>3</th>\n",
       "      <td>Californians on universal basic income paid of...</td>\n",
       "      <td>4326</td>\n",
       "      <td>Economics</td>\n",
       "    </tr>\n",
       "    <tr>\n",
       "      <th>4</th>\n",
       "      <td>A $15 minimum wage would have significant and ...</td>\n",
       "      <td>4047</td>\n",
       "      <td>Economics</td>\n",
       "    </tr>\n",
       "    <tr>\n",
       "      <th>5</th>\n",
       "      <td>Melvin Capital Lost 53% in January, Hurt by Ga...</td>\n",
       "      <td>3957</td>\n",
       "      <td>Finance</td>\n",
       "    </tr>\n",
       "    <tr>\n",
       "      <th>6</th>\n",
       "      <td>Millennials Control Just 4.6 Percent of US Wealth</td>\n",
       "      <td>3678</td>\n",
       "      <td>Economics</td>\n",
       "    </tr>\n",
       "    <tr>\n",
       "      <th>7</th>\n",
       "      <td>More than 150 CEOs urge Congress to pass Biden...</td>\n",
       "      <td>3443</td>\n",
       "      <td>Economics</td>\n",
       "    </tr>\n",
       "    <tr>\n",
       "      <th>8</th>\n",
       "      <td>The decline of the American middle class began...</td>\n",
       "      <td>3270</td>\n",
       "      <td>Economics</td>\n",
       "    </tr>\n",
       "    <tr>\n",
       "      <th>9</th>\n",
       "      <td>Waiting 10 years to start eliminating emission...</td>\n",
       "      <td>3248</td>\n",
       "      <td>Economics</td>\n",
       "    </tr>\n",
       "    <tr>\n",
       "      <th>10</th>\n",
       "      <td>What Is Social Finance?</td>\n",
       "      <td>0</td>\n",
       "      <td>Finance</td>\n",
       "    </tr>\n",
       "    <tr>\n",
       "      <th>11</th>\n",
       "      <td>Facebook's 'Neighborhoods' faces crowded niche...</td>\n",
       "      <td>0</td>\n",
       "      <td>Finance</td>\n",
       "    </tr>\n",
       "    <tr>\n",
       "      <th>12</th>\n",
       "      <td>Pandemic drags Emirates to $5.5 bln loss, its ...</td>\n",
       "      <td>0</td>\n",
       "      <td>Finance</td>\n",
       "    </tr>\n",
       "    <tr>\n",
       "      <th>13</th>\n",
       "      <td>When John Lennon talked about his money and in...</td>\n",
       "      <td>0</td>\n",
       "      <td>Finance</td>\n",
       "    </tr>\n",
       "    <tr>\n",
       "      <th>14</th>\n",
       "      <td>Executive pay gap: Men get paid 23 per cent mo...</td>\n",
       "      <td>0</td>\n",
       "      <td>Finance</td>\n",
       "    </tr>\n",
       "  </tbody>\n",
       "</table>\n",
       "</div>"
      ],
      "text/plain": [
       "                                                 body  upvote score  subreddit\n",
       "0   The $7.25 minimum wage can’t pay the bills in ...         12617  Economics\n",
       "1   Bipartisan bill would ban lawmakers from buyin...         11255    Finance\n",
       "2   12 Japanese firms will end business deals invo...          5259  Economics\n",
       "3   Californians on universal basic income paid of...          4326  Economics\n",
       "4   A $15 minimum wage would have significant and ...          4047  Economics\n",
       "5   Melvin Capital Lost 53% in January, Hurt by Ga...          3957    Finance\n",
       "6   Millennials Control Just 4.6 Percent of US Wealth          3678  Economics\n",
       "7   More than 150 CEOs urge Congress to pass Biden...          3443  Economics\n",
       "8   The decline of the American middle class began...          3270  Economics\n",
       "9   Waiting 10 years to start eliminating emission...          3248  Economics\n",
       "10                            What Is Social Finance?             0    Finance\n",
       "11  Facebook's 'Neighborhoods' faces crowded niche...             0    Finance\n",
       "12  Pandemic drags Emirates to $5.5 bln loss, its ...             0    Finance\n",
       "13  When John Lennon talked about his money and in...             0    Finance\n",
       "14  Executive pay gap: Men get paid 23 per cent mo...             0    Finance"
      ]
     },
     "execution_count": 9,
     "metadata": {},
     "output_type": "execute_result"
    }
   ],
   "source": [
    "#Generate Look at largest by upvote score \n",
    "long_eda = df1.nlargest(10, ['upvote score'])\n",
    "long_eda = long_eda[['body', 'upvote score', 'subreddit']]\n",
    "short_eda = df1.nsmallest(5, ['upvote score'])\n",
    "short_eda = short_eda[['body', 'upvote score', 'subreddit']]\n",
    "\n",
    "pd.concat([long_eda, short_eda], ignore_index=True)"
   ]
  },
  {
   "cell_type": "code",
   "execution_count": 10,
   "id": "edbb8439-1931-4cdc-94fb-7b588ab56c13",
   "metadata": {},
   "outputs": [
    {
     "data": {
      "text/html": [
       "<div>\n",
       "<style scoped>\n",
       "    .dataframe tbody tr th:only-of-type {\n",
       "        vertical-align: middle;\n",
       "    }\n",
       "\n",
       "    .dataframe tbody tr th {\n",
       "        vertical-align: top;\n",
       "    }\n",
       "\n",
       "    .dataframe thead th {\n",
       "        text-align: right;\n",
       "    }\n",
       "</style>\n",
       "<table border=\"1\" class=\"dataframe\">\n",
       "  <thead>\n",
       "    <tr style=\"text-align: right;\">\n",
       "      <th></th>\n",
       "      <th>author</th>\n",
       "      <th>date created (epoch time)</th>\n",
       "      <th>post_id</th>\n",
       "      <th>body</th>\n",
       "      <th>upvote score</th>\n",
       "      <th>number of comments</th>\n",
       "      <th>subreddit</th>\n",
       "      <th>length</th>\n",
       "      <th>word_count</th>\n",
       "      <th>tokenized_words</th>\n",
       "      <th>lemmatized_tokenized_words</th>\n",
       "      <th>stemmatized_tokenized_words</th>\n",
       "      <th>post_reddit_finance</th>\n",
       "    </tr>\n",
       "  </thead>\n",
       "  <tbody>\n",
       "    <tr>\n",
       "      <th>16274</th>\n",
       "      <td>jayfreeze7</td>\n",
       "      <td>1614797668</td>\n",
       "      <td>lx1efi</td>\n",
       "      <td>The $7.25 minimum wage can’t pay the bills in ...</td>\n",
       "      <td>12617</td>\n",
       "      <td>2726</td>\n",
       "      <td>Economics</td>\n",
       "      <td>102</td>\n",
       "      <td>19</td>\n",
       "      <td>['the', '7', '25', 'minimum', 'wage', 'can', '...</td>\n",
       "      <td>['the', '7', '25', 'minimum', 'wage', 'can', '...</td>\n",
       "      <td>['the', '7', '25', 'minimum', 'wage', 'can', '...</td>\n",
       "      <td>0</td>\n",
       "    </tr>\n",
       "    <tr>\n",
       "      <th>4717</th>\n",
       "      <td>Dull_Tonight</td>\n",
       "      <td>1614794779</td>\n",
       "      <td>lx09gp</td>\n",
       "      <td>Bipartisan bill would ban lawmakers from buyin...</td>\n",
       "      <td>11255</td>\n",
       "      <td>587</td>\n",
       "      <td>Finance</td>\n",
       "      <td>63</td>\n",
       "      <td>9</td>\n",
       "      <td>['bipartisan', 'bill', 'would', 'ban', 'lawmak...</td>\n",
       "      <td>['bipartisan', 'bill', 'would', 'ban', 'lawmak...</td>\n",
       "      <td>['bipartisan', 'bill', 'would', 'ban', 'lawmak...</td>\n",
       "      <td>1</td>\n",
       "    </tr>\n",
       "    <tr>\n",
       "      <th>16561</th>\n",
       "      <td>monkfreedom</td>\n",
       "      <td>1614075485</td>\n",
       "      <td>lqf44i</td>\n",
       "      <td>12 Japanese firms will end business deals invo...</td>\n",
       "      <td>5259</td>\n",
       "      <td>330</td>\n",
       "      <td>Economics</td>\n",
       "      <td>71</td>\n",
       "      <td>11</td>\n",
       "      <td>['12', 'japanese', 'firms', 'will', 'end', 'bu...</td>\n",
       "      <td>['12', 'japanese', 'firm', 'will', 'end', 'bus...</td>\n",
       "      <td>['12', 'japanes', 'firm', 'will', 'end', 'busi...</td>\n",
       "      <td>0</td>\n",
       "    </tr>\n",
       "    <tr>\n",
       "      <th>16227</th>\n",
       "      <td>speckz</td>\n",
       "      <td>1614867843</td>\n",
       "      <td>lxlmlv</td>\n",
       "      <td>Californians on universal basic income paid of...</td>\n",
       "      <td>4326</td>\n",
       "      <td>921</td>\n",
       "      <td>Economics</td>\n",
       "      <td>214</td>\n",
       "      <td>36</td>\n",
       "      <td>['californians', 'on', 'universal', 'basic', '...</td>\n",
       "      <td>['californian', 'on', 'universal', 'basic', 'i...</td>\n",
       "      <td>['californian', 'on', 'univers', 'basic', 'inc...</td>\n",
       "      <td>0</td>\n",
       "    </tr>\n",
       "    <tr>\n",
       "      <th>17332</th>\n",
       "      <td>EconomicPolicy</td>\n",
       "      <td>1612277859</td>\n",
       "      <td>laxe0x</td>\n",
       "      <td>A $15 minimum wage would have significant and ...</td>\n",
       "      <td>4047</td>\n",
       "      <td>1827</td>\n",
       "      <td>Economics</td>\n",
       "      <td>82</td>\n",
       "      <td>14</td>\n",
       "      <td>['a', '15', 'minimum', 'wage', 'would', 'have'...</td>\n",
       "      <td>['a', '15', 'minimum', 'wage', 'would', 'have'...</td>\n",
       "      <td>['a', '15', 'minimum', 'wage', 'would', 'have'...</td>\n",
       "      <td>0</td>\n",
       "    </tr>\n",
       "    <tr>\n",
       "      <th>5569</th>\n",
       "      <td>Imperial_in_NewYork</td>\n",
       "      <td>1612105132</td>\n",
       "      <td>l9dud0</td>\n",
       "      <td>Melvin Capital Lost 53% in January, Hurt by Ga...</td>\n",
       "      <td>3957</td>\n",
       "      <td>744</td>\n",
       "      <td>Finance</td>\n",
       "      <td>67</td>\n",
       "      <td>12</td>\n",
       "      <td>['melvin', 'capital', 'lost', '53', 'in', 'jan...</td>\n",
       "      <td>['melvin', 'capital', 'lost', '53', 'in', 'jan...</td>\n",
       "      <td>['melvin', 'capit', 'lost', '53', 'in', 'janua...</td>\n",
       "      <td>1</td>\n",
       "    </tr>\n",
       "    <tr>\n",
       "      <th>19283</th>\n",
       "      <td>jackahmed93</td>\n",
       "      <td>1608317922</td>\n",
       "      <td>kfr9f5</td>\n",
       "      <td>Millennials Control Just 4.6 Percent of US Wealth</td>\n",
       "      <td>3678</td>\n",
       "      <td>2831</td>\n",
       "      <td>Economics</td>\n",
       "      <td>49</td>\n",
       "      <td>8</td>\n",
       "      <td>['millennials', 'control', 'just', '4', '6', '...</td>\n",
       "      <td>['millennials', 'control', 'just', '4', '6', '...</td>\n",
       "      <td>['millenni', 'control', 'just', '4', '6', 'per...</td>\n",
       "      <td>0</td>\n",
       "    </tr>\n",
       "    <tr>\n",
       "      <th>16462</th>\n",
       "      <td>zsreport</td>\n",
       "      <td>1614257473</td>\n",
       "      <td>ls5vyh</td>\n",
       "      <td>More than 150 CEOs urge Congress to pass Biden...</td>\n",
       "      <td>3443</td>\n",
       "      <td>641</td>\n",
       "      <td>Economics</td>\n",
       "      <td>69</td>\n",
       "      <td>12</td>\n",
       "      <td>['more', 'than', '150', 'ceos', 'urge', 'congr...</td>\n",
       "      <td>['more', 'than', '150', 'ceo', 'urge', 'congre...</td>\n",
       "      <td>['more', 'than', '150', 'ceo', 'urg', 'congres...</td>\n",
       "      <td>0</td>\n",
       "    </tr>\n",
       "    <tr>\n",
       "      <th>17300</th>\n",
       "      <td>calmeagle11</td>\n",
       "      <td>1612320670</td>\n",
       "      <td>lbdqeg</td>\n",
       "      <td>The decline of the American middle class began...</td>\n",
       "      <td>3270</td>\n",
       "      <td>746</td>\n",
       "      <td>Economics</td>\n",
       "      <td>236</td>\n",
       "      <td>39</td>\n",
       "      <td>['the', 'decline', 'of', 'the', 'american', 'm...</td>\n",
       "      <td>['the', 'decline', 'of', 'the', 'american', 'm...</td>\n",
       "      <td>['the', 'declin', 'of', 'the', 'american', 'mi...</td>\n",
       "      <td>0</td>\n",
       "    </tr>\n",
       "    <tr>\n",
       "      <th>17275</th>\n",
       "      <td>Splenda</td>\n",
       "      <td>1612361284</td>\n",
       "      <td>lbo9lk</td>\n",
       "      <td>Waiting 10 years to start eliminating emission...</td>\n",
       "      <td>3248</td>\n",
       "      <td>266</td>\n",
       "      <td>Economics</td>\n",
       "      <td>88</td>\n",
       "      <td>15</td>\n",
       "      <td>['waiting', '10', 'years', 'to', 'start', 'eli...</td>\n",
       "      <td>['waiting', '10', 'year', 'to', 'start', 'elim...</td>\n",
       "      <td>['wait', '10', 'year', 'to', 'start', 'elimin'...</td>\n",
       "      <td>0</td>\n",
       "    </tr>\n",
       "  </tbody>\n",
       "</table>\n",
       "</div>"
      ],
      "text/plain": [
       "                    author  date created (epoch time) post_id  \\\n",
       "16274           jayfreeze7                 1614797668  lx1efi   \n",
       "4717          Dull_Tonight                 1614794779  lx09gp   \n",
       "16561          monkfreedom                 1614075485  lqf44i   \n",
       "16227               speckz                 1614867843  lxlmlv   \n",
       "17332       EconomicPolicy                 1612277859  laxe0x   \n",
       "5569   Imperial_in_NewYork                 1612105132  l9dud0   \n",
       "19283          jackahmed93                 1608317922  kfr9f5   \n",
       "16462             zsreport                 1614257473  ls5vyh   \n",
       "17300          calmeagle11                 1612320670  lbdqeg   \n",
       "17275              Splenda                 1612361284  lbo9lk   \n",
       "\n",
       "                                                    body  upvote score  \\\n",
       "16274  The $7.25 minimum wage can’t pay the bills in ...         12617   \n",
       "4717   Bipartisan bill would ban lawmakers from buyin...         11255   \n",
       "16561  12 Japanese firms will end business deals invo...          5259   \n",
       "16227  Californians on universal basic income paid of...          4326   \n",
       "17332  A $15 minimum wage would have significant and ...          4047   \n",
       "5569   Melvin Capital Lost 53% in January, Hurt by Ga...          3957   \n",
       "19283  Millennials Control Just 4.6 Percent of US Wealth          3678   \n",
       "16462  More than 150 CEOs urge Congress to pass Biden...          3443   \n",
       "17300  The decline of the American middle class began...          3270   \n",
       "17275  Waiting 10 years to start eliminating emission...          3248   \n",
       "\n",
       "       number of comments  subreddit  length  word_count  \\\n",
       "16274                2726  Economics     102          19   \n",
       "4717                  587    Finance      63           9   \n",
       "16561                 330  Economics      71          11   \n",
       "16227                 921  Economics     214          36   \n",
       "17332                1827  Economics      82          14   \n",
       "5569                  744    Finance      67          12   \n",
       "19283                2831  Economics      49           8   \n",
       "16462                 641  Economics      69          12   \n",
       "17300                 746  Economics     236          39   \n",
       "17275                 266  Economics      88          15   \n",
       "\n",
       "                                         tokenized_words  \\\n",
       "16274  ['the', '7', '25', 'minimum', 'wage', 'can', '...   \n",
       "4717   ['bipartisan', 'bill', 'would', 'ban', 'lawmak...   \n",
       "16561  ['12', 'japanese', 'firms', 'will', 'end', 'bu...   \n",
       "16227  ['californians', 'on', 'universal', 'basic', '...   \n",
       "17332  ['a', '15', 'minimum', 'wage', 'would', 'have'...   \n",
       "5569   ['melvin', 'capital', 'lost', '53', 'in', 'jan...   \n",
       "19283  ['millennials', 'control', 'just', '4', '6', '...   \n",
       "16462  ['more', 'than', '150', 'ceos', 'urge', 'congr...   \n",
       "17300  ['the', 'decline', 'of', 'the', 'american', 'm...   \n",
       "17275  ['waiting', '10', 'years', 'to', 'start', 'eli...   \n",
       "\n",
       "                              lemmatized_tokenized_words  \\\n",
       "16274  ['the', '7', '25', 'minimum', 'wage', 'can', '...   \n",
       "4717   ['bipartisan', 'bill', 'would', 'ban', 'lawmak...   \n",
       "16561  ['12', 'japanese', 'firm', 'will', 'end', 'bus...   \n",
       "16227  ['californian', 'on', 'universal', 'basic', 'i...   \n",
       "17332  ['a', '15', 'minimum', 'wage', 'would', 'have'...   \n",
       "5569   ['melvin', 'capital', 'lost', '53', 'in', 'jan...   \n",
       "19283  ['millennials', 'control', 'just', '4', '6', '...   \n",
       "16462  ['more', 'than', '150', 'ceo', 'urge', 'congre...   \n",
       "17300  ['the', 'decline', 'of', 'the', 'american', 'm...   \n",
       "17275  ['waiting', '10', 'year', 'to', 'start', 'elim...   \n",
       "\n",
       "                             stemmatized_tokenized_words  post_reddit_finance  \n",
       "16274  ['the', '7', '25', 'minimum', 'wage', 'can', '...                    0  \n",
       "4717   ['bipartisan', 'bill', 'would', 'ban', 'lawmak...                    1  \n",
       "16561  ['12', 'japanes', 'firm', 'will', 'end', 'busi...                    0  \n",
       "16227  ['californian', 'on', 'univers', 'basic', 'inc...                    0  \n",
       "17332  ['a', '15', 'minimum', 'wage', 'would', 'have'...                    0  \n",
       "5569   ['melvin', 'capit', 'lost', '53', 'in', 'janua...                    1  \n",
       "19283  ['millenni', 'control', 'just', '4', '6', 'per...                    0  \n",
       "16462  ['more', 'than', '150', 'ceo', 'urg', 'congres...                    0  \n",
       "17300  ['the', 'declin', 'of', 'the', 'american', 'mi...                    0  \n",
       "17275  ['wait', '10', 'year', 'to', 'start', 'elimin'...                    0  "
      ]
     },
     "execution_count": 10,
     "metadata": {},
     "output_type": "execute_result"
    }
   ],
   "source": [
    "df1.nlargest(10, ['upvote score'])"
   ]
  },
  {
   "cell_type": "markdown",
   "id": "5b80fab2-f932-4f18-8b89-2f85cd8396c9",
   "metadata": {},
   "source": [
    "## EDA on Words"
   ]
  },
  {
   "cell_type": "markdown",
   "id": "3a4ceaa8-281a-406b-9d0b-280b547d19f0",
   "metadata": {},
   "source": [
    "**Following a similar vectorizing process(not shown because you can only instantiate a vectorizer once in a doc), we determined the custom stop words we want to add. We will run the vectorizer to exclude these words, so that we have a better analysis. These words primarily stem from hyperlinks, file_type, and conjunctions**"
   ]
  },
  {
   "cell_type": "code",
   "execution_count": 11,
   "id": "17ab1d92-bf7e-4b20-8901-e9e8804d9232",
   "metadata": {},
   "outputs": [],
   "source": [
    "#Custom stopwords we will add to model\n",
    "custom_stop_word=['the', 'to','in','of', 'and', 'for', \n",
    "                  'is','on', 'with', 'com', 'https', 'www', \n",
    "                  'content', 'tinyurl', 'wp', 'uploads', 'jpg', '2020', \n",
    "                  '2021', 'new', 'pdf', 'amp', '10', '19', 'fintechinshorts', 'fintechnews', 'financial', 'economic', 'finance',\n",
    "                  'financial', 'economy'] \n",
    "\n",
    "#Create stopwords variable\n",
    "stopwords_1 = stopwords.words('english')\n",
    "stopwords_1 = custom_stop_word + stopwords_1"
   ]
  },
  {
   "cell_type": "code",
   "execution_count": 12,
   "id": "047969f1-5706-489d-bca3-b934de6b2ba2",
   "metadata": {},
   "outputs": [],
   "source": [
    "\n",
    "\n",
    "#Setup label and message features\n",
    "X = df1['body']\n",
    "y = df1['post_reddit_finance']\n",
    "\n",
    "#Create cross-train split\n",
    "X_train, X_test, y_train, y_test = train_test_split(X, y, test_size=.30, random_state=42)\n",
    "\n",
    "# Instantiate a CountVectorizer with stop words\n",
    "\n",
    "cvec = CountVectorizer(stop_words=stopwords_1)\n",
    "\n",
    "cvec.fit(X_train)\n",
    "X_train_cv = cvec.transform(X_train)\n",
    "X_test_cv = cvec.transform(X_test)\n",
    "\n"
   ]
  },
  {
   "cell_type": "code",
   "execution_count": 13,
   "id": "9c902c97-336b-4190-bbab-d10376043af6",
   "metadata": {},
   "outputs": [
    {
     "name": "stdout",
     "output_type": "stream",
     "text": [
      "score: 0.7527078820196634\n"
     ]
    }
   ],
   "source": [
    "# use with Logistic Regression\n",
    "\n",
    "lr_model = LogisticRegression()\n",
    "lr_model.fit(X_train_cv, y_train)\n",
    "\n",
    "score = lr_model.score(X_test_cv, y_test)\n",
    "print('score:',score)"
   ]
  },
  {
   "cell_type": "code",
   "execution_count": 14,
   "id": "867c2a5b-db0c-4af1-993f-e1110cbbb39f",
   "metadata": {},
   "outputs": [
    {
     "data": {
      "text/plain": [
       "market       582\n",
       "us           531\n",
       "china        483\n",
       "money        466\n",
       "bank         465\n",
       "currency     400\n",
       "strength     392\n",
       "covid        387\n",
       "stock        376\n",
       "weakness     367\n",
       "inflation    356\n",
       "global       351\n",
       "bitcoin      329\n",
       "world        320\n",
       "business     313\n",
       "tax          312\n",
       "get          310\n",
       "best         306\n",
       "pandemic     298\n",
       "year         289\n",
       "may          288\n",
       "online       283\n",
       "first        273\n",
       "crypto       264\n",
       "imf          263\n",
       "dtype: int64"
      ]
     },
     "execution_count": 14,
     "metadata": {},
     "output_type": "execute_result"
    }
   ],
   "source": [
    "X_train_df = pd.DataFrame(X_train_cv.todense(), columns=cvec.get_feature_names())\n",
    "X_train_df.sum().sort_values(ascending=False).head(25)\n"
   ]
  },
  {
   "cell_type": "code",
   "execution_count": 15,
   "id": "24ff5ce5-ec8c-4354-b95a-fa7733652233",
   "metadata": {},
   "outputs": [
    {
     "data": {
      "image/png": "[encoded data removed]",
      "text/plain": [
       "<Figure size 432x288 with 1 Axes>"
      ]
     },
     "metadata": {
      "needs_background": "light"
     },
     "output_type": "display_data"
    }
   ],
   "source": [
    "#Show common words\n",
    "X_train_df.sum().sort_values(ascending=False).head(20).plot(kind='barh');\n",
    "plt.xlabel(\"Total times used\")\n",
    "plt.ylabel(\"Common Words\")\n",
    "plt.title(\"Top 15 Common Words\");"
   ]
  },
  {
   "cell_type": "markdown",
   "id": "5e4ef8c2-b94e-4685-bfd0-afb742cf535d",
   "metadata": {},
   "source": [
    "## Analysis of Cleaned Files\n",
    "\n",
    "**With our new stop words list, we will evaluate both sources of data to see commonalities in their text**"
   ]
  },
  {
   "cell_type": "code",
   "execution_count": 16,
   "id": "8737e103-5eb8-44cc-8d4c-39e23823ac91",
   "metadata": {},
   "outputs": [],
   "source": [
    "#Setup Fin Array\n",
    "X = df_fin['body']\n",
    "y = df_fin['subreddit_Finance']"
   ]
  },
  {
   "cell_type": "code",
   "execution_count": 17,
   "id": "8d0a5556-eb82-4ddb-b1e4-f63ae8374847",
   "metadata": {},
   "outputs": [],
   "source": [
    "cvec.fit(X)\n",
    "X = cvec.transform(X)"
   ]
  },
  {
   "cell_type": "code",
   "execution_count": 18,
   "id": "78b3e6ac-7427-4bd2-9438-879bc4c1120e",
   "metadata": {},
   "outputs": [],
   "source": [
    "fin = pd.DataFrame(X.todense(), columns=cvec.get_feature_names())"
   ]
  },
  {
   "cell_type": "code",
   "execution_count": 19,
   "id": "eb2405da-af0f-49bd-af7a-0daf5051416f",
   "metadata": {},
   "outputs": [],
   "source": [
    "#Setup Econ Array\n",
    "X = df_econ['body']\n",
    "y = df_econ['subreddit_Economics']"
   ]
  },
  {
   "cell_type": "code",
   "execution_count": 20,
   "id": "132813a5-b54e-487a-967b-7d503f8c14c6",
   "metadata": {},
   "outputs": [],
   "source": [
    "cvec.fit(X)\n",
    "X = cvec.transform(X)"
   ]
  },
  {
   "cell_type": "code",
   "execution_count": 21,
   "id": "ca36093e-6611-4a65-8631-c23458d85d47",
   "metadata": {},
   "outputs": [],
   "source": [
    "eco = pd.DataFrame(X.todense(), columns=cvec.get_feature_names())"
   ]
  },
  {
   "cell_type": "code",
   "execution_count": 22,
   "id": "354fb163-e5ce-4ebc-9388-003a3b0ce1ce",
   "metadata": {},
   "outputs": [
    {
     "data": {
      "image/png": "[encoded data removed]",
      "text/plain": [
       "<Figure size 720x576 with 1 Axes>"
      ]
     },
     "metadata": {
      "needs_background": "light"
     },
     "output_type": "display_data"
    }
   ],
   "source": [
    "#Show common words\n",
    "\n",
    "fin.sum().sort_values(ascending=False).head(25).plot(kind='barh', figsize=(10, 8));\n",
    "plt.xlabel(\"Total times used\")\n",
    "plt.ylabel(\"Common Words\")\n",
    "plt.title(\"Top 25 Common Words\")\n",
    "figsize=(16,8);\n",
    "\n"
   ]
  },
  {
   "cell_type": "code",
   "execution_count": 23,
   "id": "3bfab119-0d8f-4b60-9ddb-8c0935cf45db",
   "metadata": {},
   "outputs": [
    {
     "data": {
      "image/png": "[encoded data removed]",
      "text/plain": [
       "<Figure size 720x576 with 1 Axes>"
      ]
     },
     "metadata": {
      "needs_background": "light"
     },
     "output_type": "display_data"
    }
   ],
   "source": [
    "#Show common words\n",
    "\n",
    "\n",
    "eco.sum().sort_values(ascending=False).head(25).plot(kind='barh',figsize=(10, 8));\n",
    "plt.xlabel(\"Total times used\")\n",
    "plt.ylabel(\"Common Words\")\n",
    "plt.title(\"Top 25 Common Words\");\n"
   ]
  },
  {
   "cell_type": "markdown",
   "id": "df54e2ea-e43e-4edf-8eae-36ddbb1787d4",
   "metadata": {},
   "source": [
    "**The data shows quite a bit of overlap between the two datasets. Words such as 'bitcoin', 'currency', 'global', 'world', 'market' are shared between the two subreddits, while there is a clear deviation where Economics is concerned.**"
   ]
  },
  {
   "cell_type": "code",
   "execution_count": 24,
   "id": "90b0e42e-9960-4550-a8a2-aaa444aaed37",
   "metadata": {},
   "outputs": [],
   "source": [
    "#Create Data Dictionary\n",
    "x = data_dictionary(df1)"
   ]
  },
  {
   "cell_type": "code",
   "execution_count": 25,
   "id": "97ba28f2-fa34-44e9-8f39-6cac9a229187",
   "metadata": {},
   "outputs": [],
   "source": [
    "#Export to DataFrame\n",
    "df1.to_csv('./Data/Reddit_Posts.csv', index = False)\n",
    "\n"
   ]
  }
 ],
 "metadata": {
  "kernelspec": {
   "display_name": "Python [conda env:dsi]",
   "language": "python",
   "name": "conda-env-dsi-py"
  },
  "language_info": {
   "codemirror_mode": {
    "name": "ipython",
    "version": 3
   },
   "file_extension": ".py",
   "mimetype": "text/x-python",
   "name": "python",
   "nbconvert_exporter": "python",
   "pygments_lexer": "ipython3",
   "version": "3.8.8"
  }
 },
 "nbformat": 4,
 "nbformat_minor": 5
}
