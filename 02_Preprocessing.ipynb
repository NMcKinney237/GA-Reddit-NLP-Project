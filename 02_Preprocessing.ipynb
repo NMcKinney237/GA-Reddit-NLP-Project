{
 "cells": [
  {
   "cell_type": "markdown",
   "id": "214137c2-3ad1-4c31-b46e-6e6ca223769d",
   "metadata": {},
   "source": [
    "# Project 3.02 - Data Wrangling and NLP Parsing"
   ]
  },
  {
   "cell_type": "markdown",
   "id": "257fbe37-f590-4a15-92fc-6a73a62514ba",
   "metadata": {},
   "source": [
    "## Table of Contents\n",
    "\n",
    "- [Functions](#Functions)\n",
    "\n",
    "- [Imports](#Imports)\n",
    "\n",
    "- [Data Cleaning](#Data-Cleaning)\n",
    "- [Tokenize Lemmitize and Stemming](#Tokenize_Lemmitize_and_Stemming)\n",
    "\n",
    "- [Basic Distribution Checks and Export](#Basic-Distribution-Checks)\n",
    "\n",
    "- [Prepare and Export](#Prepare-and-Export)\n"
   ]
  },
  {
   "cell_type": "markdown",
   "id": "1b3ca7c2-d46d-4f0d-96fe-539fbd994888",
   "metadata": {},
   "source": [
    "## Functions "
   ]
  },
  {
   "cell_type": "code",
   "execution_count": 566,
   "id": "74d2e1f3-ece8-4c6c-95d4-784ef0acfde8",
   "metadata": {},
   "outputs": [],
   "source": [
    "#Create Subplot of histogram\n",
    "'''This function creates a word_length and count subplot \n",
    "that we will use for the two datasets we are comparing.\n",
    "\n",
    "Framework first developed by Eric Bayless in a September 2020 GA course.\n",
    "'''\n",
    "\n",
    "def hist_subplot(dframe1, dframe2, x1_label, x2_label, y1_label, suptitle, sub1, sub2, fname):\n",
    "    #Create figure and axis objects; 2 by 2 subplot\n",
    "    fig, ax = plt.subplots(2,2, figsize=(16,10))\n",
    "\n",
    "    # Do hisplot; ax is grid or matrix area, so 0,0 is top left corner\n",
    "    sns.histplot(dframe1['length'], ax=ax[0,0], bins = 30)\n",
    "    sns.histplot(dframe2['length'], ax=ax[0,1], bins = 30)\n",
    "    sns.histplot(dframe1['word_count'], ax=ax[1,0], bins = 30)\n",
    "    sns.histplot(dframe2['word_count'], ax=ax[1,1], bins = 30)\n",
    "\n",
    "    # do formatting and make consistent axis ranges\n",
    "    ax[0,0].set(xlabel=x1_label, ylabel=y1_label, ylim=[0,1750], title= (x1_label + \" of \" + sub1))\n",
    "    ax[0,1].set(xlabel=x1_label, ylabel=y1_label, ylim=[0,1750], title=(x1_label + \" of \" + sub2))\n",
    "    ax[1,0].set(xlabel=x2_label,ylabel=y1_label, xlim=[0,60], ylim=[0,1750], title= (x2_label + \" of \" + sub1))\n",
    "    ax[1,1].set(xlabel=x2_label, ylabel=y1_label, xlim=[0,60], ylim=[0,1750], title= (x2_label + \" of \" + sub2))\n",
    "\n",
    "    fig.suptitle(suptitle, fontsize=20)\n",
    "\n",
    "    results_path = 'Images/'+fname+ '.png'\n",
    "    plt.savefig(results_path);\n"
   ]
  },
  {
   "cell_type": "code",
   "execution_count": 567,
   "id": "e7eb1d56-c9fe-43bb-bc62-855018c12aaa",
   "metadata": {},
   "outputs": [],
   "source": [
    "def hist(dframe, bins, Xlabel, Ylabel, title, fname):\n",
    "    '''This function creates a presentation ready histogram'''\n",
    "    plt.figure(figsize=(8,8))\n",
    "    plt.hist(dframe, bins = bins);     \n",
    "    plt.xlabel(Xlabel, fontsize=16)\n",
    "    plt.ylabel(Ylabel, fontsize=16)\n",
    "    plt.title(title, fontsize =25)\n",
    "    \n",
    "    results_path = 'Images/'+fname+ '.png'\n",
    "    plt.savefig(results_path);\n",
    "         \n",
    "#hist(df1['length'], 30, 'test', 'test', 'test', 'test')       "
   ]
  },
  {
   "cell_type": "code",
   "execution_count": 568,
   "id": "549a056f-0f9e-4687-b405-64255b65e1a9",
   "metadata": {},
   "outputs": [],
   "source": [
    "\n",
    "def data_transform(dframe):\n",
    "    '''This function transforms the bulk of our data to be production ready, \n",
    "    with the exception of the NPL transformations we will do later'''\n",
    "    #DropNA rows\n",
    "    print('Null rows are:')\n",
    "    print(dframe.isna().sum())\n",
    "    dframe.dropna(inplace=True)\n",
    "    print('NAN rows dropped')\n",
    "    \n",
    "    #Drop rows that are only videos\n",
    "    print(f\" Is_video sum is {dframe['is_video'].sum()}\")\n",
    "    dframe.drop(columns = 'is_video', inplace=True)\n",
    "    print(\"Is_video posts dropped from columns\")\n",
    "    \n",
    "    #Apply length and word_count columns from text\n",
    "    dframe['length'] = dframe['title'].apply(len)\n",
    "    dframe['word_count'] = dframe['title'].apply(lambda x: len(x.split()))\n",
    "    return \"Data transformed\"\n",
    "\n"
   ]
  },
  {
   "cell_type": "code",
   "execution_count": 569,
   "id": "22abe98f-89e5-4065-a663-3e7bd256b598",
   "metadata": {},
   "outputs": [],
   "source": [
    "def tokenize(data, col):\n",
    "    '''This nlp function removes any whitespace and leaves only the alphabet'''\n",
    "    \n",
    "    token = RegexpTokenizer(r\"[\\w/\\']+\")\n",
    "    data['tokenized_words'] = data[col].apply(lambda x: token.tokenize(x.lower()))\n",
    "    \n",
    "\n",
    "    \n",
    "    return 'tokenized words generated...'"
   ]
  },
  {
   "cell_type": "code",
   "execution_count": 570,
   "id": "cf8abca1-c5c5-443c-9ca8-31eeb4f93474",
   "metadata": {},
   "outputs": [],
   "source": [
    "def lemmatize(data, column):\n",
    "    '''This nlp function groups together the \n",
    "    inflected forms of a word so they can be analysed as a single item, \n",
    "    identified by the word's lemma, or dictionary form.This looks at the context of the word being used'''\n",
    "    \n",
    "    #create list and instantiate lemmatizer\n",
    "    list_ = []\n",
    "    lemmatizer = WLem()\n",
    "    \n",
    "    \n",
    "    #loop through rows and stem, adding new column\n",
    "    for row in data[column]:\n",
    "        lem_row = [lemmatizer.lemmatize(string) for string in row]\n",
    "        list_.append(lem_row)\n",
    "           \n",
    "    data['lemmatized_tokenized_words'] = list_\n",
    "   \n",
    "    return 'lemmatized words generated...'"
   ]
  },
  {
   "cell_type": "code",
   "execution_count": 571,
   "id": "a889b481-b56c-4920-9ad6-dfc741652710",
   "metadata": {},
   "outputs": [],
   "source": [
    "def stemmatize(data, column):\n",
    "    '''This nlp function chops of the end of a word to get it to it's stem, or base. \n",
    "    An alternative to lemmatizing that is less tied to the context of its use.'''\n",
    "    \n",
    "    #create list and instantiate stemmer\n",
    "    list_ = []\n",
    "    P_Stem = PorterStemmer()\n",
    "    \n",
    "    #loop through rows and stem, adding new column\n",
    "    for row in data[column]:\n",
    "        stemmed= [P_Stem.stem(string) for string in row]\n",
    "        list_.append(stemmed)\n",
    "    data[\"stemmatized_tokenized_words\"]= list_               \n",
    "    \n",
    "    return 'stems generated...'"
   ]
  },
  {
   "cell_type": "markdown",
   "id": "65b48882-0824-4b01-a8d1-05cc0ecaf361",
   "metadata": {},
   "source": [
    "## Imports"
   ]
  },
  {
   "cell_type": "code",
   "execution_count": 572,
   "id": "8b670c11-935e-483d-ba11-d91f7cbc5841",
   "metadata": {},
   "outputs": [],
   "source": [
    "#Import NLP packages\n",
    "import nltk\n",
    "from nltk.stem import WordNetLemmatizer as WLem\n",
    "from nltk.tokenize import word_tokenize, RegexpTokenizer\n",
    "from nltk.stem import PorterStemmer\n",
    "from nltk.corpus import stopwords\n",
    "\n",
    "#Import Cleaning and Viz packages\n",
    "import datetime\n",
    "import pandas as pd\n",
    "import numpy as np\n",
    "import matplotlib.pyplot as plt\n",
    "from sklearn.feature_extraction.text import CountVectorizer\n",
    "import seaborn as sns\n",
    "%matplotlib inline"
   ]
  },
  {
   "cell_type": "markdown",
   "id": "4333df71-ed0f-4d85-9632-4c4fea8878c3",
   "metadata": {},
   "source": [
    "## Data Cleaning"
   ]
  },
  {
   "cell_type": "code",
   "execution_count": 573,
   "id": "5ecfdb40-a237-4940-9fd6-e530b339fcc7",
   "metadata": {},
   "outputs": [
    {
     "name": "stderr",
     "output_type": "stream",
     "text": [
      "/Users/nathanmckinney/opt/anaconda3/envs/dsi/lib/python3.8/site-packages/IPython/core/interactiveshell.py:3441: DtypeWarning: Columns (8,19,75,76,77) have mixed types.Specify dtype option on import or set low_memory=False.\n",
      "  exec(code_obj, self.user_global_ns, self.user_ns)\n",
      "/Users/nathanmckinney/opt/anaconda3/envs/dsi/lib/python3.8/site-packages/IPython/core/interactiveshell.py:3441: DtypeWarning: Columns (3,5,8,19,27,28,30,31,81,82) have mixed types.Specify dtype option on import or set low_memory=False.\n",
      "  exec(code_obj, self.user_global_ns, self.user_ns)\n"
     ]
    },
    {
     "data": {
      "text/html": [
       "<div>\n",
       "<style scoped>\n",
       "    .dataframe tbody tr th:only-of-type {\n",
       "        vertical-align: middle;\n",
       "    }\n",
       "\n",
       "    .dataframe tbody tr th {\n",
       "        vertical-align: top;\n",
       "    }\n",
       "\n",
       "    .dataframe thead th {\n",
       "        text-align: right;\n",
       "    }\n",
       "</style>\n",
       "<table border=\"1\" class=\"dataframe\">\n",
       "  <thead>\n",
       "    <tr style=\"text-align: right;\">\n",
       "      <th></th>\n",
       "      <th>all_awardings</th>\n",
       "      <th>allow_live_comments</th>\n",
       "      <th>author</th>\n",
       "      <th>author_flair_css_class</th>\n",
       "      <th>author_flair_richtext</th>\n",
       "      <th>author_flair_text</th>\n",
       "      <th>author_flair_type</th>\n",
       "      <th>author_fullname</th>\n",
       "      <th>author_is_blocked</th>\n",
       "      <th>author_patreon_flair</th>\n",
       "      <th>...</th>\n",
       "      <th>author_flair_background_color</th>\n",
       "      <th>author_flair_text_color</th>\n",
       "      <th>crosspost_parent</th>\n",
       "      <th>crosspost_parent_list</th>\n",
       "      <th>is_gallery</th>\n",
       "      <th>author_flair_template_id</th>\n",
       "      <th>author_cakeday</th>\n",
       "      <th>gallery_data</th>\n",
       "      <th>media_metadata</th>\n",
       "      <th>distinguished</th>\n",
       "    </tr>\n",
       "  </thead>\n",
       "  <tbody>\n",
       "    <tr>\n",
       "      <th>10022</th>\n",
       "      <td>[]</td>\n",
       "      <td>False</td>\n",
       "      <td>kmuinnovation</td>\n",
       "      <td>NaN</td>\n",
       "      <td>[]</td>\n",
       "      <td>NaN</td>\n",
       "      <td>text</td>\n",
       "      <td>t2_42xdt</td>\n",
       "      <td>NaN</td>\n",
       "      <td>False</td>\n",
       "      <td>...</td>\n",
       "      <td>NaN</td>\n",
       "      <td>NaN</td>\n",
       "      <td>NaN</td>\n",
       "      <td>NaN</td>\n",
       "      <td>NaN</td>\n",
       "      <td>NaN</td>\n",
       "      <td>NaN</td>\n",
       "      <td>NaN</td>\n",
       "      <td>NaN</td>\n",
       "      <td>NaN</td>\n",
       "    </tr>\n",
       "    <tr>\n",
       "      <th>10023</th>\n",
       "      <td>[]</td>\n",
       "      <td>False</td>\n",
       "      <td>kmuinnovation</td>\n",
       "      <td>NaN</td>\n",
       "      <td>[]</td>\n",
       "      <td>NaN</td>\n",
       "      <td>text</td>\n",
       "      <td>t2_42xdt</td>\n",
       "      <td>NaN</td>\n",
       "      <td>False</td>\n",
       "      <td>...</td>\n",
       "      <td>NaN</td>\n",
       "      <td>NaN</td>\n",
       "      <td>NaN</td>\n",
       "      <td>NaN</td>\n",
       "      <td>NaN</td>\n",
       "      <td>NaN</td>\n",
       "      <td>NaN</td>\n",
       "      <td>NaN</td>\n",
       "      <td>NaN</td>\n",
       "      <td>NaN</td>\n",
       "    </tr>\n",
       "    <tr>\n",
       "      <th>10024</th>\n",
       "      <td>[]</td>\n",
       "      <td>False</td>\n",
       "      <td>tacunningham00</td>\n",
       "      <td>NaN</td>\n",
       "      <td>[]</td>\n",
       "      <td>NaN</td>\n",
       "      <td>text</td>\n",
       "      <td>t2_3zodhf9b</td>\n",
       "      <td>NaN</td>\n",
       "      <td>False</td>\n",
       "      <td>...</td>\n",
       "      <td>NaN</td>\n",
       "      <td>NaN</td>\n",
       "      <td>NaN</td>\n",
       "      <td>NaN</td>\n",
       "      <td>NaN</td>\n",
       "      <td>NaN</td>\n",
       "      <td>NaN</td>\n",
       "      <td>NaN</td>\n",
       "      <td>NaN</td>\n",
       "      <td>NaN</td>\n",
       "    </tr>\n",
       "    <tr>\n",
       "      <th>10025</th>\n",
       "      <td>[]</td>\n",
       "      <td>False</td>\n",
       "      <td>Rdock87</td>\n",
       "      <td>NaN</td>\n",
       "      <td>[]</td>\n",
       "      <td>NaN</td>\n",
       "      <td>text</td>\n",
       "      <td>t2_17tnl0if</td>\n",
       "      <td>NaN</td>\n",
       "      <td>False</td>\n",
       "      <td>...</td>\n",
       "      <td>NaN</td>\n",
       "      <td>NaN</td>\n",
       "      <td>NaN</td>\n",
       "      <td>NaN</td>\n",
       "      <td>NaN</td>\n",
       "      <td>NaN</td>\n",
       "      <td>NaN</td>\n",
       "      <td>NaN</td>\n",
       "      <td>NaN</td>\n",
       "      <td>NaN</td>\n",
       "    </tr>\n",
       "    <tr>\n",
       "      <th>10026</th>\n",
       "      <td>[]</td>\n",
       "      <td>False</td>\n",
       "      <td>financealtechnical</td>\n",
       "      <td>NaN</td>\n",
       "      <td>[]</td>\n",
       "      <td>NaN</td>\n",
       "      <td>text</td>\n",
       "      <td>t2_5j4cfdoq</td>\n",
       "      <td>NaN</td>\n",
       "      <td>False</td>\n",
       "      <td>...</td>\n",
       "      <td>NaN</td>\n",
       "      <td>NaN</td>\n",
       "      <td>NaN</td>\n",
       "      <td>NaN</td>\n",
       "      <td>NaN</td>\n",
       "      <td>NaN</td>\n",
       "      <td>NaN</td>\n",
       "      <td>NaN</td>\n",
       "      <td>NaN</td>\n",
       "      <td>NaN</td>\n",
       "    </tr>\n",
       "  </tbody>\n",
       "</table>\n",
       "<p>5 rows × 79 columns</p>\n",
       "</div>"
      ],
      "text/plain": [
       "      all_awardings  allow_live_comments              author  \\\n",
       "10022            []                False       kmuinnovation   \n",
       "10023            []                False       kmuinnovation   \n",
       "10024            []                False      tacunningham00   \n",
       "10025            []                False             Rdock87   \n",
       "10026            []                False  financealtechnical   \n",
       "\n",
       "      author_flair_css_class author_flair_richtext author_flair_text  \\\n",
       "10022                    NaN                    []               NaN   \n",
       "10023                    NaN                    []               NaN   \n",
       "10024                    NaN                    []               NaN   \n",
       "10025                    NaN                    []               NaN   \n",
       "10026                    NaN                    []               NaN   \n",
       "\n",
       "      author_flair_type author_fullname author_is_blocked  \\\n",
       "10022              text        t2_42xdt               NaN   \n",
       "10023              text        t2_42xdt               NaN   \n",
       "10024              text     t2_3zodhf9b               NaN   \n",
       "10025              text     t2_17tnl0if               NaN   \n",
       "10026              text     t2_5j4cfdoq               NaN   \n",
       "\n",
       "      author_patreon_flair  ... author_flair_background_color  \\\n",
       "10022                False  ...                           NaN   \n",
       "10023                False  ...                           NaN   \n",
       "10024                False  ...                           NaN   \n",
       "10025                False  ...                           NaN   \n",
       "10026                False  ...                           NaN   \n",
       "\n",
       "      author_flair_text_color  crosspost_parent  crosspost_parent_list  \\\n",
       "10022                     NaN               NaN                    NaN   \n",
       "10023                     NaN               NaN                    NaN   \n",
       "10024                     NaN               NaN                    NaN   \n",
       "10025                     NaN               NaN                    NaN   \n",
       "10026                     NaN               NaN                    NaN   \n",
       "\n",
       "       is_gallery author_flair_template_id author_cakeday gallery_data  \\\n",
       "10022         NaN                      NaN            NaN          NaN   \n",
       "10023         NaN                      NaN            NaN          NaN   \n",
       "10024         NaN                      NaN            NaN          NaN   \n",
       "10025         NaN                      NaN            NaN          NaN   \n",
       "10026         NaN                      NaN            NaN          NaN   \n",
       "\n",
       "      media_metadata distinguished  \n",
       "10022            NaN           NaN  \n",
       "10023            NaN           NaN  \n",
       "10024            NaN           NaN  \n",
       "10025            NaN           NaN  \n",
       "10026            NaN           NaN  \n",
       "\n",
       "[5 rows x 79 columns]"
      ]
     },
     "execution_count": 573,
     "metadata": {},
     "output_type": "execute_result"
    }
   ],
   "source": [
    "#Read_CSV\n",
    "df_fin = pd.read_csv('Data/finance.csv')\n",
    "df_econ = pd.read_csv('Data/economics.csv')\n",
    "df_fin.tail()"
   ]
  },
  {
   "cell_type": "code",
   "execution_count": 574,
   "id": "09679911-d4e0-484b-8e0d-2353b034231b",
   "metadata": {},
   "outputs": [
    {
     "data": {
      "text/plain": [
       "Index(['all_awardings', 'allow_live_comments', 'author',\n",
       "       'author_flair_css_class', 'author_flair_richtext', 'author_flair_text',\n",
       "       'author_flair_type', 'author_fullname', 'author_is_blocked',\n",
       "       'author_patreon_flair', 'author_premium', 'awarders', 'can_mod_post',\n",
       "       'contest_mode', 'created_utc', 'domain', 'full_link', 'gildings', 'id',\n",
       "       'is_created_from_ads_ui', 'is_crosspostable', 'is_meta',\n",
       "       'is_original_content', 'is_reddit_media_domain', 'is_robot_indexable',\n",
       "       'is_self', 'is_video', 'link_flair_background_color',\n",
       "       'link_flair_richtext', 'link_flair_text_color', 'link_flair_type',\n",
       "       'locked', 'media_only', 'no_follow', 'num_comments', 'num_crossposts',\n",
       "       'over_18', 'parent_whitelist_status', 'permalink', 'pinned', 'pwls',\n",
       "       'removed_by_category', 'retrieved_on', 'score', 'selftext',\n",
       "       'send_replies', 'spoiler', 'stickied', 'subreddit', 'subreddit_id',\n",
       "       'subreddit_subscribers', 'subreddit_type', 'thumbnail', 'title',\n",
       "       'total_awards_received', 'treatment_tags', 'upvote_ratio', 'url',\n",
       "       'url_overridden_by_dest', 'whitelist_status', 'wls', 'post_hint',\n",
       "       'preview', 'thumbnail_height', 'thumbnail_width', 'media',\n",
       "       'media_embed', 'secure_media', 'secure_media_embed',\n",
       "       'author_flair_background_color', 'author_flair_text_color',\n",
       "       'crosspost_parent', 'crosspost_parent_list', 'is_gallery',\n",
       "       'author_flair_template_id', 'author_cakeday', 'gallery_data',\n",
       "       'media_metadata', 'distinguished'],\n",
       "      dtype='object')"
      ]
     },
     "execution_count": 574,
     "metadata": {},
     "output_type": "execute_result"
    }
   ],
   "source": [
    "#Show columns we can select\n",
    "df_fin.columns"
   ]
  },
  {
   "cell_type": "code",
   "execution_count": 575,
   "id": "6f16fdba-d623-4cb7-af48-95ba4cc85faa",
   "metadata": {},
   "outputs": [],
   "source": [
    "#Select our dataframe rows\n",
    "df_fin = df_fin[['author', 'created_utc','id', 'title', 'score', 'is_video', 'num_comments', 'subreddit']]\n",
    "df_econ = df_econ[['author', 'created_utc','id', 'title', 'score', 'is_video', 'num_comments', 'subreddit']]\n"
   ]
  },
  {
   "cell_type": "markdown",
   "id": "4dd62a59-44f2-400d-bfe0-9ae3bfe2a4e3",
   "metadata": {},
   "source": [
    "#### We selected the above columns primarily because of their layer of detail or relevance to our analysis, with the exception of is_video, which we will use to drop non-text posts."
   ]
  },
  {
   "cell_type": "code",
   "execution_count": 576,
   "id": "3d9d3b73-4cbd-4597-90bb-90c4b4fd57a7",
   "metadata": {},
   "outputs": [],
   "source": [
    "#Add title case to subreddit name for plot\n",
    "df_fin['subreddit'] = df_fin.subreddit.str.capitalize()\n",
    "df_econ['subreddit'] = df_econ.subreddit.str.capitalize()"
   ]
  },
  {
   "cell_type": "code",
   "execution_count": 577,
   "id": "96d9bcc7-fd39-424c-9380-de950ed1700a",
   "metadata": {},
   "outputs": [
    {
     "name": "stdout",
     "output_type": "stream",
     "text": [
      "2020-07-31 18:05:39\n"
     ]
    }
   ],
   "source": [
    "\n",
    "#check UTC time to see earliest date of posts\n",
    "epoch_time = df_fin['created_utc'].min()\n",
    "print(datetime.datetime.fromtimestamp(epoch_time))\n"
   ]
  },
  {
   "cell_type": "code",
   "execution_count": 578,
   "id": "dacfbb1a-a891-4d93-b176-b2491d43cd90",
   "metadata": {},
   "outputs": [
    {
     "name": "stdout",
     "output_type": "stream",
     "text": [
      "2020-12-02 13:17:45\n"
     ]
    }
   ],
   "source": [
    "#check UTC time to see earliest date of posts\n",
    "\n",
    "epoch_time = df_econ['created_utc'].min()\n",
    "print(datetime.datetime.fromtimestamp(epoch_time))\n",
    "\n"
   ]
  },
  {
   "cell_type": "markdown",
   "id": "67834473-3ace-4b4d-abef-966e8dc862f4",
   "metadata": {},
   "source": [
    "#### Our data, which is the same shape, spans two different ranges in terms of time."
   ]
  },
  {
   "cell_type": "code",
   "execution_count": 579,
   "id": "653e817e-d3f3-47ec-a538-c21753c37955",
   "metadata": {},
   "outputs": [
    {
     "name": "stdout",
     "output_type": "stream",
     "text": [
      "26\n"
     ]
    },
    {
     "data": {
      "text/html": [
       "<div>\n",
       "<style scoped>\n",
       "    .dataframe tbody tr th:only-of-type {\n",
       "        vertical-align: middle;\n",
       "    }\n",
       "\n",
       "    .dataframe tbody tr th {\n",
       "        vertical-align: top;\n",
       "    }\n",
       "\n",
       "    .dataframe thead th {\n",
       "        text-align: right;\n",
       "    }\n",
       "</style>\n",
       "<table border=\"1\" class=\"dataframe\">\n",
       "  <thead>\n",
       "    <tr style=\"text-align: right;\">\n",
       "      <th></th>\n",
       "      <th>author</th>\n",
       "      <th>created_utc</th>\n",
       "      <th>id</th>\n",
       "      <th>title</th>\n",
       "      <th>score</th>\n",
       "      <th>is_video</th>\n",
       "      <th>num_comments</th>\n",
       "      <th>subreddit</th>\n",
       "    </tr>\n",
       "  </thead>\n",
       "  <tbody>\n",
       "    <tr>\n",
       "      <th>27</th>\n",
       "      <td>Sufficient_Aide_9696</td>\n",
       "      <td>1631299360</td>\n",
       "      <td>plr00k</td>\n",
       "      <td>Former Assistant Secretary of Homeland Securit...</td>\n",
       "      <td>1</td>\n",
       "      <td>False</td>\n",
       "      <td>0</td>\n",
       "      <td>Finance</td>\n",
       "    </tr>\n",
       "    <tr>\n",
       "      <th>28</th>\n",
       "      <td>[deleted]</td>\n",
       "      <td>1631298305</td>\n",
       "      <td>plqo10</td>\n",
       "      <td>Mastercard makes a big bet on crypto, buying b...</td>\n",
       "      <td>1</td>\n",
       "      <td>False</td>\n",
       "      <td>0</td>\n",
       "      <td>Finance</td>\n",
       "    </tr>\n",
       "  </tbody>\n",
       "</table>\n",
       "</div>"
      ],
      "text/plain": [
       "                  author  created_utc      id  \\\n",
       "27  Sufficient_Aide_9696   1631299360  plr00k   \n",
       "28             [deleted]   1631298305  plqo10   \n",
       "\n",
       "                                                title  score  is_video  \\\n",
       "27  Former Assistant Secretary of Homeland Securit...      1     False   \n",
       "28  Mastercard makes a big bet on crypto, buying b...      1     False   \n",
       "\n",
       "    num_comments subreddit  \n",
       "27             0   Finance  \n",
       "28             0   Finance  "
      ]
     },
     "execution_count": 579,
     "metadata": {},
     "output_type": "execute_result"
    }
   ],
   "source": [
    "#check duplicates\n",
    "df_fin['created_utc'].min()\n",
    "\n",
    "print(df_fin.duplicated().sum())\n",
    "duplicate = df_fin[df_fin.duplicated()]\n",
    "duplicate.head(2)"
   ]
  },
  {
   "cell_type": "markdown",
   "id": "1528c09d-a241-4569-9796-e4c3b82c304a",
   "metadata": {},
   "source": [
    "#### Below we begin several layers of cleaning, dropping duplicates, null values, and video posts"
   ]
  },
  {
   "cell_type": "code",
   "execution_count": 580,
   "id": "98dc5216-8ac6-491b-930c-7a38915fdfc4",
   "metadata": {},
   "outputs": [],
   "source": [
    "#Drop duplicates\n",
    "df_fin.drop_duplicates(inplace=True)\n",
    "df_econ.drop_duplicates(inplace=True)"
   ]
  },
  {
   "cell_type": "code",
   "execution_count": 581,
   "id": "69d6552e-4f7a-47f0-95dd-86254cd45f5c",
   "metadata": {},
   "outputs": [
    {
     "name": "stdout",
     "output_type": "stream",
     "text": [
      "Null rows are:\n",
      "author          0\n",
      "created_utc     0\n",
      "id              0\n",
      "title           1\n",
      "score           0\n",
      "is_video        0\n",
      "num_comments    0\n",
      "subreddit       0\n",
      "dtype: int64\n",
      "NAN rows dropped\n",
      " Is_video sum is 49\n",
      "Is_video posts dropped from columns\n"
     ]
    },
    {
     "data": {
      "text/plain": [
       "'Data transformed'"
      ]
     },
     "execution_count": 581,
     "metadata": {},
     "output_type": "execute_result"
    }
   ],
   "source": [
    "#Transform data using function\n",
    "data_transform(df_fin)"
   ]
  },
  {
   "cell_type": "code",
   "execution_count": 582,
   "id": "b20e98cc-82cb-400d-b60e-9817952f192a",
   "metadata": {},
   "outputs": [
    {
     "name": "stdout",
     "output_type": "stream",
     "text": [
      "Null rows are:\n",
      "author          0\n",
      "created_utc     0\n",
      "id              0\n",
      "title           0\n",
      "score           0\n",
      "is_video        0\n",
      "num_comments    0\n",
      "subreddit       0\n",
      "dtype: int64\n",
      "NAN rows dropped\n",
      " Is_video sum is 71\n",
      "Is_video posts dropped from columns\n"
     ]
    },
    {
     "data": {
      "text/plain": [
       "'Data transformed'"
      ]
     },
     "execution_count": 582,
     "metadata": {},
     "output_type": "execute_result"
    }
   ],
   "source": [
    "#Transform data using function\n",
    "data_transform(df_econ)"
   ]
  },
  {
   "cell_type": "markdown",
   "id": "a3b0665c-5b99-47fc-9ec7-4884fa32eeff",
   "metadata": {},
   "source": [
    "## Tokenize_Lemmitize_and_Stemming\n",
    "\n",
    "#### Below, we apply different text transformations to our text data to remove whitespace, punctuation, and other linguistic operations (detailed in function)\n"
   ]
  },
  {
   "cell_type": "code",
   "execution_count": 583,
   "id": "2e33139b-4fff-4fa5-86c0-995591a72406",
   "metadata": {},
   "outputs": [
    {
     "data": {
      "text/plain": [
       "'tokenized words generated...'"
      ]
     },
     "execution_count": 583,
     "metadata": {},
     "output_type": "execute_result"
    }
   ],
   "source": [
    "#Tokenize data\n",
    "tokenize(df_fin, 'title')\n",
    "tokenize(df_econ, 'title')\n"
   ]
  },
  {
   "cell_type": "code",
   "execution_count": 584,
   "id": "3b2e4a3f-9d63-4a1c-999e-fc4d5422db87",
   "metadata": {},
   "outputs": [
    {
     "data": {
      "text/plain": [
       "'lemmatized words generated...'"
      ]
     },
     "execution_count": 584,
     "metadata": {},
     "output_type": "execute_result"
    }
   ],
   "source": [
    "#Lemmatize\n",
    "lemmatize(df_econ, 'tokenized_words')\n",
    "lemmatize(df_fin, 'tokenized_words')\n"
   ]
  },
  {
   "cell_type": "code",
   "execution_count": 585,
   "id": "08d8467d-39bf-4ba1-bcf1-7f2563570ec7",
   "metadata": {},
   "outputs": [
    {
     "data": {
      "text/plain": [
       "'stems generated...'"
      ]
     },
     "execution_count": 585,
     "metadata": {},
     "output_type": "execute_result"
    }
   ],
   "source": [
    "#Stemmatize text data\n",
    "stemmatize(df_econ, 'tokenized_words')\n",
    "stemmatize(df_fin, 'tokenized_words')\n"
   ]
  },
  {
   "cell_type": "code",
   "execution_count": 586,
   "id": "5175a518-0929-4a30-b906-928f86a0f380",
   "metadata": {},
   "outputs": [
    {
     "data": {
      "text/html": [
       "<div>\n",
       "<style scoped>\n",
       "    .dataframe tbody tr th:only-of-type {\n",
       "        vertical-align: middle;\n",
       "    }\n",
       "\n",
       "    .dataframe tbody tr th {\n",
       "        vertical-align: top;\n",
       "    }\n",
       "\n",
       "    .dataframe thead th {\n",
       "        text-align: right;\n",
       "    }\n",
       "</style>\n",
       "<table border=\"1\" class=\"dataframe\">\n",
       "  <thead>\n",
       "    <tr style=\"text-align: right;\">\n",
       "      <th></th>\n",
       "      <th>author</th>\n",
       "      <th>created_utc</th>\n",
       "      <th>id</th>\n",
       "      <th>title</th>\n",
       "      <th>score</th>\n",
       "      <th>num_comments</th>\n",
       "      <th>subreddit</th>\n",
       "      <th>length</th>\n",
       "      <th>word_count</th>\n",
       "      <th>tokenized_words</th>\n",
       "      <th>lemmatized_tokenized_words</th>\n",
       "      <th>stemmatized_tokenized_words</th>\n",
       "    </tr>\n",
       "  </thead>\n",
       "  <tbody>\n",
       "    <tr>\n",
       "      <th>0</th>\n",
       "      <td>kmuinnovation</td>\n",
       "      <td>1631255155</td>\n",
       "      <td>plfj7f</td>\n",
       "      <td>Schweizer Kredit Rangliste des Monats Septembe...</td>\n",
       "      <td>1</td>\n",
       "      <td>0</td>\n",
       "      <td>Finance</td>\n",
       "      <td>52</td>\n",
       "      <td>7</td>\n",
       "      <td>[schweizer, kredit, rangliste, des, monats, se...</td>\n",
       "      <td>[schweizer, kredit, rangliste, de, monats, sep...</td>\n",
       "      <td>[schweizer, kredit, ranglist, de, monat, septe...</td>\n",
       "    </tr>\n",
       "    <tr>\n",
       "      <th>1</th>\n",
       "      <td>sillychillly</td>\n",
       "      <td>1631255546</td>\n",
       "      <td>plfm8v</td>\n",
       "      <td>Mastercard acquires CipherTrace to enhance cry...</td>\n",
       "      <td>1</td>\n",
       "      <td>0</td>\n",
       "      <td>Finance</td>\n",
       "      <td>62</td>\n",
       "      <td>7</td>\n",
       "      <td>[mastercard, acquires, ciphertrace, to, enhanc...</td>\n",
       "      <td>[mastercard, acquires, ciphertrace, to, enhanc...</td>\n",
       "      <td>[mastercard, acquir, ciphertrac, to, enhanc, c...</td>\n",
       "    </tr>\n",
       "  </tbody>\n",
       "</table>\n",
       "</div>"
      ],
      "text/plain": [
       "          author  created_utc      id  \\\n",
       "0  kmuinnovation   1631255155  plfj7f   \n",
       "1   sillychillly   1631255546  plfm8v   \n",
       "\n",
       "                                               title  score  num_comments  \\\n",
       "0  Schweizer Kredit Rangliste des Monats Septembe...      1             0   \n",
       "1  Mastercard acquires CipherTrace to enhance cry...      1             0   \n",
       "\n",
       "  subreddit  length  word_count  \\\n",
       "0   Finance      52           7   \n",
       "1   Finance      62           7   \n",
       "\n",
       "                                     tokenized_words  \\\n",
       "0  [schweizer, kredit, rangliste, des, monats, se...   \n",
       "1  [mastercard, acquires, ciphertrace, to, enhanc...   \n",
       "\n",
       "                          lemmatized_tokenized_words  \\\n",
       "0  [schweizer, kredit, rangliste, de, monats, sep...   \n",
       "1  [mastercard, acquires, ciphertrace, to, enhanc...   \n",
       "\n",
       "                         stemmatized_tokenized_words  \n",
       "0  [schweizer, kredit, ranglist, de, monat, septe...  \n",
       "1  [mastercard, acquir, ciphertrac, to, enhanc, c...  "
      ]
     },
     "execution_count": 586,
     "metadata": {},
     "output_type": "execute_result"
    }
   ],
   "source": [
    "df_fin.head(2)"
   ]
  },
  {
   "cell_type": "markdown",
   "id": "c22651a1-3f2a-4ce0-b342-cfc9d4bfc289",
   "metadata": {},
   "source": [
    "## Basic Distribution Checks"
   ]
  },
  {
   "cell_type": "code",
   "execution_count": 589,
   "id": "39271f89-82da-4589-aae5-ce074729d05b",
   "metadata": {},
   "outputs": [
    {
     "data": {
      "image/png": "[encoded data removed]",
      "text/plain": [
       "<Figure size 432x288 with 1 Axes>"
      ]
     },
     "metadata": {
      "needs_background": "light"
     },
     "output_type": "display_data"
    }
   ],
   "source": [
    "#Show the range of our upvote scores\n",
    "plt.hist(df_fin['score'], bins=5);\n"
   ]
  },
  {
   "cell_type": "code",
   "execution_count": 554,
   "id": "e954899b-aedb-43c5-af04-de2526b2db88",
   "metadata": {},
   "outputs": [
    {
     "data": {
      "image/png": "[encoded data removed]",
      "text/plain": [
       "<Figure size 432x288 with 1 Axes>"
      ]
     },
     "metadata": {
      "needs_background": "light"
     },
     "output_type": "display_data"
    }
   ],
   "source": [
    "#Show hist of utc\n",
    "plt.hist(df_fin['created_utc'], bins=30);"
   ]
  },
  {
   "cell_type": "code",
   "execution_count": 555,
   "id": "c20fc180-4ea8-4a58-9ae6-69c9daa4483c",
   "metadata": {},
   "outputs": [
    {
     "data": {
      "image/png": "[encoded data removed]",
      "text/plain": [
       "<Figure size 432x288 with 1 Axes>"
      ]
     },
     "metadata": {
      "needs_background": "light"
     },
     "output_type": "display_data"
    }
   ],
   "source": [
    "plt.hist(df_econ['created_utc'], bins=30);"
   ]
  },
  {
   "cell_type": "markdown",
   "id": "5cf413ec-5397-488b-8b47-ef165d458256",
   "metadata": {},
   "source": [
    "#### There is a gap within postings at around the same time in both datasets, but the reason is yet to be determined. This won't matter in the context of our analysis"
   ]
  },
  {
   "cell_type": "code",
   "execution_count": 556,
   "id": "316ef612-0719-4483-b6e1-3913562dac8e",
   "metadata": {},
   "outputs": [
    {
     "data": {
      "image/png": "[encoded data removed]",
      "text/plain": [
       "<Figure size 1152x720 with 4 Axes>"
      ]
     },
     "metadata": {
      "needs_background": "light"
     },
     "output_type": "display_data"
    }
   ],
   "source": [
    "#Hist(df1, df2, xlabel1, xlabel2, SupTitle, Subreddit1, Subreddit2, Filename for saved image) Bins = 30\n",
    "hist_subplot(df_fin, df_econ, 'Length', 'Word Count', 'Number of Posts', 'Length and Word Count of Posts', 'Finance', 'Economics', 'Sub_Hist')"
   ]
  },
  {
   "cell_type": "markdown",
   "id": "b1850400-d5e0-4bac-a04d-55752f98f33f",
   "metadata": {},
   "source": [
    "#### The Length and Word Count of our databases show a similar distribution (skewed, long-tail), with the exception of Finance, which has some degree of bi-modality, likely due to the use of larger words related to finance terminology. It's possible a np.log can be used to improve distribution."
   ]
  },
  {
   "cell_type": "markdown",
   "id": "e6c24edd-53d5-4b28-9b5c-0fcd53b71d08",
   "metadata": {},
   "source": [
    "## Prepare and Export"
   ]
  },
  {
   "cell_type": "code",
   "execution_count": 557,
   "id": "20ad7f1d-387b-4d30-bf47-33f51a8dc371",
   "metadata": {},
   "outputs": [],
   "source": [
    "#Rename columns to be human readable\n",
    "df_fin.rename(columns = {'created_utc':'date created (epoch time)', 'id': 'post_id', 'title':'body',\n",
    "                              'score':'upvote score', 'num_comments': 'number of comments'}, inplace = True)\n",
    "df_econ.rename(columns = {'created_utc':'date created (epoch time)', 'id': 'post_id', 'title':'body',\n",
    "                              'score':'upvote score', 'num_comments': 'number of comments'}, inplace = True)\n"
   ]
  },
  {
   "cell_type": "code",
   "execution_count": 558,
   "id": "47d2a261-1b43-42c4-ac7e-7bb03257d6b9",
   "metadata": {},
   "outputs": [],
   "source": [
    "#Export cleaned CSV's\n",
    "df_fin.to_csv('./Data/fin_cleaned.csv', index = False)\n",
    "df_econ.to_csv('./Data/econ_cleaned.csv', index = False)"
   ]
  },
  {
   "cell_type": "code",
   "execution_count": 559,
   "id": "eae58122-5c52-4e9a-9351-7c4cab586ef2",
   "metadata": {},
   "outputs": [],
   "source": [
    "# Combine dataframes for analysis\n",
    "mixed_dframe = pd.concat([df_fin, df_econ])\n",
    "\n",
    "mixed_dframe.to_csv('./Data/Reddit_Posts.csv', index = False)"
   ]
  }
 ],
 "metadata": {
  "kernelspec": {
   "display_name": "Python [conda env:dsi]",
   "language": "python",
   "name": "conda-env-dsi-py"
  },
  "language_info": {
   "codemirror_mode": {
    "name": "ipython",
    "version": 3
   },
   "file_extension": ".py",
   "mimetype": "text/x-python",
   "name": "python",
   "nbconvert_exporter": "python",
   "pygments_lexer": "ipython3",
   "version": "3.8.8"
  }
 },
 "nbformat": 4,
 "nbformat_minor": 5
}
